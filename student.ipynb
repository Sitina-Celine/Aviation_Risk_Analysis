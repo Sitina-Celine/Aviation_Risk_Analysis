{
 "cells": [
  {
   "cell_type": "markdown",
   "metadata": {},
   "source": [
    "## Final Project Submission\n",
    "\n",
    "Please fill out:\n",
    "* Student name: Celine Sitina\n",
    "* Student pace: full time\n",
    "* Scheduled project review date/time: \n",
    "* Instructor name: Faith Cherotich\n",
    "* Blog post URL:https://celinesitina.blogspot.com/2025/06/phase-1data-anlysis-on-aviation-dataset.html\n"
   ]
  },
  {
   "cell_type": "markdown",
   "metadata": {},
   "source": [
    "# AVIATION ANALYSIS\n",
    "## Project Goal\n",
    "project aims to predict aircraft that have lower risk for the company business of purchasing and operating aircraft\n",
    "## Data source and exploration\n",
    "The data is from Kaggle from the National Transportation Safety Board that includes aviation accident data from 1962 to 2023 about civil aviation accidents.\n"
   ]
  },
  {
   "cell_type": "markdown",
   "metadata": {},
   "source": [
    "## Importing necessary Libraries\n",
    "\n",
    "importing pandas library\n",
    "\n",
    "importing numpy for calculations\n",
    "\n",
    "importing seaborn and matplotlib for visuals\n",
    "\n",
    "importing warnings to ignore warnings and for clean code"
   ]
  },
  {
   "cell_type": "code",
   "execution_count": 169,
   "metadata": {},
   "outputs": [],
   "source": [
    "#Importing libraries\n",
    "import pandas as pd\n",
    "import numpy as np\n",
    "import seaborn as sns\n",
    "import matplotlib.pyplot as plt\n",
    "import warnings\n",
    "warnings.filterwarnings('ignore')"
   ]
  },
  {
   "cell_type": "code",
   "execution_count": 170,
   "metadata": {},
   "outputs": [
    {
     "data": {
      "text/html": [
       "<div>\n",
       "<style scoped>\n",
       "    .dataframe tbody tr th:only-of-type {\n",
       "        vertical-align: middle;\n",
       "    }\n",
       "\n",
       "    .dataframe tbody tr th {\n",
       "        vertical-align: top;\n",
       "    }\n",
       "\n",
       "    .dataframe thead th {\n",
       "        text-align: right;\n",
       "    }\n",
       "</style>\n",
       "<table border=\"1\" class=\"dataframe\">\n",
       "  <thead>\n",
       "    <tr style=\"text-align: right;\">\n",
       "      <th></th>\n",
       "      <th>Event.Id</th>\n",
       "      <th>Investigation.Type</th>\n",
       "      <th>Accident.Number</th>\n",
       "      <th>Event.Date</th>\n",
       "      <th>Location</th>\n",
       "      <th>Country</th>\n",
       "      <th>Latitude</th>\n",
       "      <th>Longitude</th>\n",
       "      <th>Airport.Code</th>\n",
       "      <th>Airport.Name</th>\n",
       "      <th>...</th>\n",
       "      <th>Purpose.of.flight</th>\n",
       "      <th>Air.carrier</th>\n",
       "      <th>Total.Fatal.Injuries</th>\n",
       "      <th>Total.Serious.Injuries</th>\n",
       "      <th>Total.Minor.Injuries</th>\n",
       "      <th>Total.Uninjured</th>\n",
       "      <th>Weather.Condition</th>\n",
       "      <th>Broad.phase.of.flight</th>\n",
       "      <th>Report.Status</th>\n",
       "      <th>Publication.Date</th>\n",
       "    </tr>\n",
       "  </thead>\n",
       "  <tbody>\n",
       "    <tr>\n",
       "      <th>0</th>\n",
       "      <td>20001218X45444</td>\n",
       "      <td>Accident</td>\n",
       "      <td>SEA87LA080</td>\n",
       "      <td>1948-10-24</td>\n",
       "      <td>MOOSE CREEK, ID</td>\n",
       "      <td>United States</td>\n",
       "      <td>NaN</td>\n",
       "      <td>NaN</td>\n",
       "      <td>NaN</td>\n",
       "      <td>NaN</td>\n",
       "      <td>...</td>\n",
       "      <td>Personal</td>\n",
       "      <td>NaN</td>\n",
       "      <td>2.0</td>\n",
       "      <td>0.0</td>\n",
       "      <td>0.0</td>\n",
       "      <td>0.0</td>\n",
       "      <td>UNK</td>\n",
       "      <td>Cruise</td>\n",
       "      <td>Probable Cause</td>\n",
       "      <td>NaN</td>\n",
       "    </tr>\n",
       "    <tr>\n",
       "      <th>1</th>\n",
       "      <td>20001218X45447</td>\n",
       "      <td>Accident</td>\n",
       "      <td>LAX94LA336</td>\n",
       "      <td>1962-07-19</td>\n",
       "      <td>BRIDGEPORT, CA</td>\n",
       "      <td>United States</td>\n",
       "      <td>NaN</td>\n",
       "      <td>NaN</td>\n",
       "      <td>NaN</td>\n",
       "      <td>NaN</td>\n",
       "      <td>...</td>\n",
       "      <td>Personal</td>\n",
       "      <td>NaN</td>\n",
       "      <td>4.0</td>\n",
       "      <td>0.0</td>\n",
       "      <td>0.0</td>\n",
       "      <td>0.0</td>\n",
       "      <td>UNK</td>\n",
       "      <td>Unknown</td>\n",
       "      <td>Probable Cause</td>\n",
       "      <td>19-09-1996</td>\n",
       "    </tr>\n",
       "    <tr>\n",
       "      <th>2</th>\n",
       "      <td>20061025X01555</td>\n",
       "      <td>Accident</td>\n",
       "      <td>NYC07LA005</td>\n",
       "      <td>1974-08-30</td>\n",
       "      <td>Saltville, VA</td>\n",
       "      <td>United States</td>\n",
       "      <td>36.922223</td>\n",
       "      <td>-81.878056</td>\n",
       "      <td>NaN</td>\n",
       "      <td>NaN</td>\n",
       "      <td>...</td>\n",
       "      <td>Personal</td>\n",
       "      <td>NaN</td>\n",
       "      <td>3.0</td>\n",
       "      <td>NaN</td>\n",
       "      <td>NaN</td>\n",
       "      <td>NaN</td>\n",
       "      <td>IMC</td>\n",
       "      <td>Cruise</td>\n",
       "      <td>Probable Cause</td>\n",
       "      <td>26-02-2007</td>\n",
       "    </tr>\n",
       "    <tr>\n",
       "      <th>3</th>\n",
       "      <td>20001218X45448</td>\n",
       "      <td>Accident</td>\n",
       "      <td>LAX96LA321</td>\n",
       "      <td>1977-06-19</td>\n",
       "      <td>EUREKA, CA</td>\n",
       "      <td>United States</td>\n",
       "      <td>NaN</td>\n",
       "      <td>NaN</td>\n",
       "      <td>NaN</td>\n",
       "      <td>NaN</td>\n",
       "      <td>...</td>\n",
       "      <td>Personal</td>\n",
       "      <td>NaN</td>\n",
       "      <td>2.0</td>\n",
       "      <td>0.0</td>\n",
       "      <td>0.0</td>\n",
       "      <td>0.0</td>\n",
       "      <td>IMC</td>\n",
       "      <td>Cruise</td>\n",
       "      <td>Probable Cause</td>\n",
       "      <td>12-09-2000</td>\n",
       "    </tr>\n",
       "    <tr>\n",
       "      <th>4</th>\n",
       "      <td>20041105X01764</td>\n",
       "      <td>Accident</td>\n",
       "      <td>CHI79FA064</td>\n",
       "      <td>1979-08-02</td>\n",
       "      <td>Canton, OH</td>\n",
       "      <td>United States</td>\n",
       "      <td>NaN</td>\n",
       "      <td>NaN</td>\n",
       "      <td>NaN</td>\n",
       "      <td>NaN</td>\n",
       "      <td>...</td>\n",
       "      <td>Personal</td>\n",
       "      <td>NaN</td>\n",
       "      <td>1.0</td>\n",
       "      <td>2.0</td>\n",
       "      <td>NaN</td>\n",
       "      <td>0.0</td>\n",
       "      <td>VMC</td>\n",
       "      <td>Approach</td>\n",
       "      <td>Probable Cause</td>\n",
       "      <td>16-04-1980</td>\n",
       "    </tr>\n",
       "  </tbody>\n",
       "</table>\n",
       "<p>5 rows × 31 columns</p>\n",
       "</div>"
      ],
      "text/plain": [
       "         Event.Id Investigation.Type Accident.Number  Event.Date  \\\n",
       "0  20001218X45444           Accident      SEA87LA080  1948-10-24   \n",
       "1  20001218X45447           Accident      LAX94LA336  1962-07-19   \n",
       "2  20061025X01555           Accident      NYC07LA005  1974-08-30   \n",
       "3  20001218X45448           Accident      LAX96LA321  1977-06-19   \n",
       "4  20041105X01764           Accident      CHI79FA064  1979-08-02   \n",
       "\n",
       "          Location        Country   Latitude   Longitude Airport.Code  \\\n",
       "0  MOOSE CREEK, ID  United States        NaN         NaN          NaN   \n",
       "1   BRIDGEPORT, CA  United States        NaN         NaN          NaN   \n",
       "2    Saltville, VA  United States  36.922223  -81.878056          NaN   \n",
       "3       EUREKA, CA  United States        NaN         NaN          NaN   \n",
       "4       Canton, OH  United States        NaN         NaN          NaN   \n",
       "\n",
       "  Airport.Name  ... Purpose.of.flight Air.carrier Total.Fatal.Injuries  \\\n",
       "0          NaN  ...          Personal         NaN                  2.0   \n",
       "1          NaN  ...          Personal         NaN                  4.0   \n",
       "2          NaN  ...          Personal         NaN                  3.0   \n",
       "3          NaN  ...          Personal         NaN                  2.0   \n",
       "4          NaN  ...          Personal         NaN                  1.0   \n",
       "\n",
       "  Total.Serious.Injuries Total.Minor.Injuries Total.Uninjured  \\\n",
       "0                    0.0                  0.0             0.0   \n",
       "1                    0.0                  0.0             0.0   \n",
       "2                    NaN                  NaN             NaN   \n",
       "3                    0.0                  0.0             0.0   \n",
       "4                    2.0                  NaN             0.0   \n",
       "\n",
       "  Weather.Condition  Broad.phase.of.flight   Report.Status Publication.Date  \n",
       "0               UNK                 Cruise  Probable Cause              NaN  \n",
       "1               UNK                Unknown  Probable Cause       19-09-1996  \n",
       "2               IMC                 Cruise  Probable Cause       26-02-2007  \n",
       "3               IMC                 Cruise  Probable Cause       12-09-2000  \n",
       "4               VMC               Approach  Probable Cause       16-04-1980  \n",
       "\n",
       "[5 rows x 31 columns]"
      ]
     },
     "execution_count": 170,
     "metadata": {},
     "output_type": "execute_result"
    }
   ],
   "source": [
    "# loading the dataset to a dataframe df\n",
    "df = pd.read_csv(\n",
    "    r\"C:\\Users\\Celine\\OneDrive\\Desktop\\Flatiron\\Assignments\\Phase 1\\Phase 1 project\\dsc-phase-1-project-v3\\data\\Aviation_Data.csv\",\n",
    "    low_memory=False\n",
    ")\n",
    "#prints the first 5 rows\n",
    "df.head()"
   ]
  },
  {
   "cell_type": "code",
   "execution_count": 171,
   "metadata": {},
   "outputs": [
    {
     "data": {
      "text/plain": [
       "Index(['Event.Id', 'Investigation.Type', 'Accident.Number', 'Event.Date',\n",
       "       'Location', 'Country', 'Latitude', 'Longitude', 'Airport.Code',\n",
       "       'Airport.Name', 'Injury.Severity', 'Aircraft.damage',\n",
       "       'Aircraft.Category', 'Registration.Number', 'Make', 'Model',\n",
       "       'Amateur.Built', 'Number.of.Engines', 'Engine.Type', 'FAR.Description',\n",
       "       'Schedule', 'Purpose.of.flight', 'Air.carrier', 'Total.Fatal.Injuries',\n",
       "       'Total.Serious.Injuries', 'Total.Minor.Injuries', 'Total.Uninjured',\n",
       "       'Weather.Condition', 'Broad.phase.of.flight', 'Report.Status',\n",
       "       'Publication.Date'],\n",
       "      dtype='object')"
      ]
     },
     "execution_count": 171,
     "metadata": {},
     "output_type": "execute_result"
    }
   ],
   "source": [
    "#list all columns\n",
    "df.columns"
   ]
  },
  {
   "cell_type": "markdown",
   "metadata": {},
   "source": [
    "# Understanding the data\n",
    "\n",
    "Understanding the data by checking its shape,check if there are missing values ,what is the data about,the relationship of various columns,checking for outliers."
   ]
  },
  {
   "cell_type": "code",
   "execution_count": 100,
   "metadata": {},
   "outputs": [
    {
     "data": {
      "text/plain": [
       "(90348, 31)"
      ]
     },
     "execution_count": 100,
     "metadata": {},
     "output_type": "execute_result"
    }
   ],
   "source": [
    "#df.shape\n",
    "df.shape"
   ]
  },
  {
   "cell_type": "code",
   "execution_count": 101,
   "metadata": {},
   "outputs": [
    {
     "data": {
      "text/plain": [
       "Index(['Event.Id', 'Investigation.Type', 'Accident.Number', 'Event.Date',\n",
       "       'Location', 'Country', 'Latitude', 'Longitude', 'Airport.Code',\n",
       "       'Airport.Name', 'Injury.Severity', 'Aircraft.damage',\n",
       "       'Aircraft.Category', 'Registration.Number', 'Make', 'Model',\n",
       "       'Amateur.Built', 'Number.of.Engines', 'Engine.Type', 'FAR.Description',\n",
       "       'Schedule', 'Purpose.of.flight', 'Air.carrier', 'Total.Fatal.Injuries',\n",
       "       'Total.Serious.Injuries', 'Total.Minor.Injuries', 'Total.Uninjured',\n",
       "       'Weather.Condition', 'Broad.phase.of.flight', 'Report.Status',\n",
       "       'Publication.Date'],\n",
       "      dtype='object')"
      ]
     },
     "execution_count": 101,
     "metadata": {},
     "output_type": "execute_result"
    }
   ],
   "source": [
    "df.columns"
   ]
  },
  {
   "cell_type": "markdown",
   "metadata": {},
   "source": [
    "## Standardize column names by replacing dots( . ) with underscore( _ )\n",
    "This helps improve readability ,ensure consistency and reduce syntax_errors when accessing the columns."
   ]
  },
  {
   "cell_type": "code",
   "execution_count": 102,
   "metadata": {},
   "outputs": [
    {
     "data": {
      "text/plain": [
       "Index(['Event_Id', 'Investigation_Type', 'Accident_Number', 'Event_Date',\n",
       "       'Location', 'Country', 'Latitude', 'Longitude', 'Airport_Code',\n",
       "       'Airport_Name', 'Injury_Severity', 'Aircraft_damage',\n",
       "       'Aircraft_Category', 'Registration_Number', 'Make', 'Model',\n",
       "       'Amateur_Built', 'Number_of_Engines', 'Engine_Type', 'FAR_Description',\n",
       "       'Schedule', 'Purpose_of_flight', 'Air_carrier', 'Total_Fatal_Injuries',\n",
       "       'Total_Serious_Injuries', 'Total_Minor_Injuries', 'Total_Uninjured',\n",
       "       'Weather_Condition', 'Broad_phase_of_flight', 'Report_Status',\n",
       "       'Publication_Date'],\n",
       "      dtype='object')"
      ]
     },
     "execution_count": 102,
     "metadata": {},
     "output_type": "execute_result"
    }
   ],
   "source": [
    "#standardizing columns by replacing (.) with (_)\n",
    "df.columns = df.columns.str.replace('.', '_', regex=False)\n",
    "df.columns"
   ]
  },
  {
   "cell_type": "code",
   "execution_count": 103,
   "metadata": {},
   "outputs": [
    {
     "name": "stdout",
     "output_type": "stream",
     "text": [
      "<class 'pandas.core.frame.DataFrame'>\n",
      "RangeIndex: 90348 entries, 0 to 90347\n",
      "Data columns (total 31 columns):\n",
      " #   Column                  Non-Null Count  Dtype  \n",
      "---  ------                  --------------  -----  \n",
      " 0   Event_Id                88889 non-null  object \n",
      " 1   Investigation_Type      90348 non-null  object \n",
      " 2   Accident_Number         88889 non-null  object \n",
      " 3   Event_Date              88889 non-null  object \n",
      " 4   Location                88837 non-null  object \n",
      " 5   Country                 88663 non-null  object \n",
      " 6   Latitude                34382 non-null  object \n",
      " 7   Longitude               34373 non-null  object \n",
      " 8   Airport_Code            50132 non-null  object \n",
      " 9   Airport_Name            52704 non-null  object \n",
      " 10  Injury_Severity         87889 non-null  object \n",
      " 11  Aircraft_damage         85695 non-null  object \n",
      " 12  Aircraft_Category       32287 non-null  object \n",
      " 13  Registration_Number     87507 non-null  object \n",
      " 14  Make                    88826 non-null  object \n",
      " 15  Model                   88797 non-null  object \n",
      " 16  Amateur_Built           88787 non-null  object \n",
      " 17  Number_of_Engines       82805 non-null  float64\n",
      " 18  Engine_Type             81793 non-null  object \n",
      " 19  FAR_Description         32023 non-null  object \n",
      " 20  Schedule                12582 non-null  object \n",
      " 21  Purpose_of_flight       82697 non-null  object \n",
      " 22  Air_carrier             16648 non-null  object \n",
      " 23  Total_Fatal_Injuries    77488 non-null  float64\n",
      " 24  Total_Serious_Injuries  76379 non-null  float64\n",
      " 25  Total_Minor_Injuries    76956 non-null  float64\n",
      " 26  Total_Uninjured         82977 non-null  float64\n",
      " 27  Weather_Condition       84397 non-null  object \n",
      " 28  Broad_phase_of_flight   61724 non-null  object \n",
      " 29  Report_Status           82505 non-null  object \n",
      " 30  Publication_Date        73659 non-null  object \n",
      "dtypes: float64(5), object(26)\n",
      "memory usage: 21.4+ MB\n"
     ]
    }
   ],
   "source": [
    "df.info()"
   ]
  },
  {
   "cell_type": "code",
   "execution_count": 104,
   "metadata": {},
   "outputs": [
    {
     "data": {
      "text/plain": [
       "Event_Id                   1459\n",
       "Investigation_Type            0\n",
       "Accident_Number            1459\n",
       "Event_Date                 1459\n",
       "Location                   1511\n",
       "Country                    1685\n",
       "Latitude                  55966\n",
       "Longitude                 55975\n",
       "Airport_Code              40216\n",
       "Airport_Name              37644\n",
       "Injury_Severity            2459\n",
       "Aircraft_damage            4653\n",
       "Aircraft_Category         58061\n",
       "Registration_Number        2841\n",
       "Make                       1522\n",
       "Model                      1551\n",
       "Amateur_Built              1561\n",
       "Number_of_Engines          7543\n",
       "Engine_Type                8555\n",
       "FAR_Description           58325\n",
       "Schedule                  77766\n",
       "Purpose_of_flight          7651\n",
       "Air_carrier               73700\n",
       "Total_Fatal_Injuries      12860\n",
       "Total_Serious_Injuries    13969\n",
       "Total_Minor_Injuries      13392\n",
       "Total_Uninjured            7371\n",
       "Weather_Condition          5951\n",
       "Broad_phase_of_flight     28624\n",
       "Report_Status              7843\n",
       "Publication_Date          16689\n",
       "dtype: int64"
      ]
     },
     "execution_count": 104,
     "metadata": {},
     "output_type": "execute_result"
    }
   ],
   "source": [
    "#finding missing values\n",
    "df.isnull().sum()"
   ]
  },
  {
   "cell_type": "code",
   "execution_count": 105,
   "metadata": {},
   "outputs": [
    {
     "data": {
      "text/plain": [
       "Event_Id                   1.614867\n",
       "Investigation_Type         0.000000\n",
       "Accident_Number            1.614867\n",
       "Event_Date                 1.614867\n",
       "Location                   1.672422\n",
       "Country                    1.865011\n",
       "Latitude                  61.944924\n",
       "Longitude                 61.954886\n",
       "Airport_Code              44.512330\n",
       "Airport_Name              41.665560\n",
       "Injury_Severity            2.721698\n",
       "Aircraft_damage            5.150086\n",
       "Aircraft_Category         64.263736\n",
       "Registration_Number        3.144508\n",
       "Make                       1.684597\n",
       "Model                      1.716695\n",
       "Amateur_Built              1.727764\n",
       "Number_of_Engines          8.348829\n",
       "Engine_Type                9.468942\n",
       "FAR_Description           64.555939\n",
       "Schedule                  86.073848\n",
       "Purpose_of_flight          8.468367\n",
       "Air_carrier               81.573471\n",
       "Total_Fatal_Injuries      14.233851\n",
       "Total_Serious_Injuries    15.461327\n",
       "Total_Minor_Injuries      14.822686\n",
       "Total_Uninjured            8.158454\n",
       "Weather_Condition          6.586753\n",
       "Broad_phase_of_flight     31.681941\n",
       "Report_Status              8.680878\n",
       "Publication_Date          18.471909\n",
       "dtype: float64"
      ]
     },
     "execution_count": 105,
     "metadata": {},
     "output_type": "execute_result"
    }
   ],
   "source": [
    "#finding the percentage of missing values\n",
    "df.isnull().sum()/df.shape[0] * 100"
   ]
  },
  {
   "cell_type": "code",
   "execution_count": 106,
   "metadata": {},
   "outputs": [
    {
     "data": {
      "text/plain": [
       "1390"
      ]
     },
     "execution_count": 106,
     "metadata": {},
     "output_type": "execute_result"
    }
   ],
   "source": [
    "#finding duplicates\n",
    "df.duplicated().sum()"
   ]
  },
  {
   "cell_type": "code",
   "execution_count": 107,
   "metadata": {},
   "outputs": [
    {
     "data": {
      "text/html": [
       "<div>\n",
       "<style scoped>\n",
       "    .dataframe tbody tr th:only-of-type {\n",
       "        vertical-align: middle;\n",
       "    }\n",
       "\n",
       "    .dataframe tbody tr th {\n",
       "        vertical-align: top;\n",
       "    }\n",
       "\n",
       "    .dataframe thead th {\n",
       "        text-align: right;\n",
       "    }\n",
       "</style>\n",
       "<table border=\"1\" class=\"dataframe\">\n",
       "  <thead>\n",
       "    <tr style=\"text-align: right;\">\n",
       "      <th></th>\n",
       "      <th>Number_of_Engines</th>\n",
       "      <th>Total_Fatal_Injuries</th>\n",
       "      <th>Total_Serious_Injuries</th>\n",
       "      <th>Total_Minor_Injuries</th>\n",
       "      <th>Total_Uninjured</th>\n",
       "    </tr>\n",
       "  </thead>\n",
       "  <tbody>\n",
       "    <tr>\n",
       "      <th>count</th>\n",
       "      <td>82805.000000</td>\n",
       "      <td>77488.000000</td>\n",
       "      <td>76379.000000</td>\n",
       "      <td>76956.000000</td>\n",
       "      <td>82977.000000</td>\n",
       "    </tr>\n",
       "    <tr>\n",
       "      <th>mean</th>\n",
       "      <td>1.146585</td>\n",
       "      <td>0.647855</td>\n",
       "      <td>0.279881</td>\n",
       "      <td>0.357061</td>\n",
       "      <td>5.325440</td>\n",
       "    </tr>\n",
       "    <tr>\n",
       "      <th>std</th>\n",
       "      <td>0.446510</td>\n",
       "      <td>5.485960</td>\n",
       "      <td>1.544084</td>\n",
       "      <td>2.235625</td>\n",
       "      <td>27.913634</td>\n",
       "    </tr>\n",
       "    <tr>\n",
       "      <th>min</th>\n",
       "      <td>0.000000</td>\n",
       "      <td>0.000000</td>\n",
       "      <td>0.000000</td>\n",
       "      <td>0.000000</td>\n",
       "      <td>0.000000</td>\n",
       "    </tr>\n",
       "    <tr>\n",
       "      <th>25%</th>\n",
       "      <td>1.000000</td>\n",
       "      <td>0.000000</td>\n",
       "      <td>0.000000</td>\n",
       "      <td>0.000000</td>\n",
       "      <td>0.000000</td>\n",
       "    </tr>\n",
       "    <tr>\n",
       "      <th>50%</th>\n",
       "      <td>1.000000</td>\n",
       "      <td>0.000000</td>\n",
       "      <td>0.000000</td>\n",
       "      <td>0.000000</td>\n",
       "      <td>1.000000</td>\n",
       "    </tr>\n",
       "    <tr>\n",
       "      <th>75%</th>\n",
       "      <td>1.000000</td>\n",
       "      <td>0.000000</td>\n",
       "      <td>0.000000</td>\n",
       "      <td>0.000000</td>\n",
       "      <td>2.000000</td>\n",
       "    </tr>\n",
       "    <tr>\n",
       "      <th>max</th>\n",
       "      <td>8.000000</td>\n",
       "      <td>349.000000</td>\n",
       "      <td>161.000000</td>\n",
       "      <td>380.000000</td>\n",
       "      <td>699.000000</td>\n",
       "    </tr>\n",
       "  </tbody>\n",
       "</table>\n",
       "</div>"
      ],
      "text/plain": [
       "       Number_of_Engines  Total_Fatal_Injuries  Total_Serious_Injuries  \\\n",
       "count       82805.000000          77488.000000            76379.000000   \n",
       "mean            1.146585              0.647855                0.279881   \n",
       "std             0.446510              5.485960                1.544084   \n",
       "min             0.000000              0.000000                0.000000   \n",
       "25%             1.000000              0.000000                0.000000   \n",
       "50%             1.000000              0.000000                0.000000   \n",
       "75%             1.000000              0.000000                0.000000   \n",
       "max             8.000000            349.000000              161.000000   \n",
       "\n",
       "       Total_Minor_Injuries  Total_Uninjured  \n",
       "count          76956.000000     82977.000000  \n",
       "mean               0.357061         5.325440  \n",
       "std                2.235625        27.913634  \n",
       "min                0.000000         0.000000  \n",
       "25%                0.000000         0.000000  \n",
       "50%                0.000000         1.000000  \n",
       "75%                0.000000         2.000000  \n",
       "max              380.000000       699.000000  "
      ]
     },
     "execution_count": 107,
     "metadata": {},
     "output_type": "execute_result"
    }
   ],
   "source": [
    "# df.describe\n",
    "df.describe()"
   ]
  },
  {
   "cell_type": "code",
   "execution_count": 108,
   "metadata": {},
   "outputs": [
    {
     "data": {
      "text/html": [
       "<div>\n",
       "<style scoped>\n",
       "    .dataframe tbody tr th:only-of-type {\n",
       "        vertical-align: middle;\n",
       "    }\n",
       "\n",
       "    .dataframe tbody tr th {\n",
       "        vertical-align: top;\n",
       "    }\n",
       "\n",
       "    .dataframe thead th {\n",
       "        text-align: right;\n",
       "    }\n",
       "</style>\n",
       "<table border=\"1\" class=\"dataframe\">\n",
       "  <thead>\n",
       "    <tr style=\"text-align: right;\">\n",
       "      <th></th>\n",
       "      <th>Event_Id</th>\n",
       "      <th>Investigation_Type</th>\n",
       "      <th>Accident_Number</th>\n",
       "      <th>Event_Date</th>\n",
       "      <th>Location</th>\n",
       "      <th>Country</th>\n",
       "      <th>Latitude</th>\n",
       "      <th>Longitude</th>\n",
       "      <th>Airport_Code</th>\n",
       "      <th>Airport_Name</th>\n",
       "      <th>...</th>\n",
       "      <th>Amateur_Built</th>\n",
       "      <th>Engine_Type</th>\n",
       "      <th>FAR_Description</th>\n",
       "      <th>Schedule</th>\n",
       "      <th>Purpose_of_flight</th>\n",
       "      <th>Air_carrier</th>\n",
       "      <th>Weather_Condition</th>\n",
       "      <th>Broad_phase_of_flight</th>\n",
       "      <th>Report_Status</th>\n",
       "      <th>Publication_Date</th>\n",
       "    </tr>\n",
       "  </thead>\n",
       "  <tbody>\n",
       "    <tr>\n",
       "      <th>count</th>\n",
       "      <td>88889</td>\n",
       "      <td>90348</td>\n",
       "      <td>88889</td>\n",
       "      <td>88889</td>\n",
       "      <td>88837</td>\n",
       "      <td>88663</td>\n",
       "      <td>34382</td>\n",
       "      <td>34373</td>\n",
       "      <td>50132</td>\n",
       "      <td>52704</td>\n",
       "      <td>...</td>\n",
       "      <td>88787</td>\n",
       "      <td>81793</td>\n",
       "      <td>32023</td>\n",
       "      <td>12582</td>\n",
       "      <td>82697</td>\n",
       "      <td>16648</td>\n",
       "      <td>84397</td>\n",
       "      <td>61724</td>\n",
       "      <td>82505</td>\n",
       "      <td>73659</td>\n",
       "    </tr>\n",
       "    <tr>\n",
       "      <th>unique</th>\n",
       "      <td>87951</td>\n",
       "      <td>71</td>\n",
       "      <td>88863</td>\n",
       "      <td>14782</td>\n",
       "      <td>27758</td>\n",
       "      <td>219</td>\n",
       "      <td>25589</td>\n",
       "      <td>27154</td>\n",
       "      <td>10374</td>\n",
       "      <td>24870</td>\n",
       "      <td>...</td>\n",
       "      <td>2</td>\n",
       "      <td>12</td>\n",
       "      <td>31</td>\n",
       "      <td>3</td>\n",
       "      <td>26</td>\n",
       "      <td>13590</td>\n",
       "      <td>4</td>\n",
       "      <td>12</td>\n",
       "      <td>17006</td>\n",
       "      <td>2923</td>\n",
       "    </tr>\n",
       "    <tr>\n",
       "      <th>top</th>\n",
       "      <td>20001212X19172</td>\n",
       "      <td>Accident</td>\n",
       "      <td>CEN22LA149</td>\n",
       "      <td>1984-06-30</td>\n",
       "      <td>ANCHORAGE, AK</td>\n",
       "      <td>United States</td>\n",
       "      <td>332739N</td>\n",
       "      <td>0112457W</td>\n",
       "      <td>NONE</td>\n",
       "      <td>Private</td>\n",
       "      <td>...</td>\n",
       "      <td>No</td>\n",
       "      <td>Reciprocating</td>\n",
       "      <td>091</td>\n",
       "      <td>NSCH</td>\n",
       "      <td>Personal</td>\n",
       "      <td>Pilot</td>\n",
       "      <td>VMC</td>\n",
       "      <td>Landing</td>\n",
       "      <td>Probable Cause</td>\n",
       "      <td>25-09-2020</td>\n",
       "    </tr>\n",
       "    <tr>\n",
       "      <th>freq</th>\n",
       "      <td>3</td>\n",
       "      <td>85015</td>\n",
       "      <td>2</td>\n",
       "      <td>25</td>\n",
       "      <td>434</td>\n",
       "      <td>82248</td>\n",
       "      <td>19</td>\n",
       "      <td>24</td>\n",
       "      <td>1488</td>\n",
       "      <td>240</td>\n",
       "      <td>...</td>\n",
       "      <td>80312</td>\n",
       "      <td>69530</td>\n",
       "      <td>18221</td>\n",
       "      <td>4474</td>\n",
       "      <td>49448</td>\n",
       "      <td>258</td>\n",
       "      <td>77303</td>\n",
       "      <td>15428</td>\n",
       "      <td>61754</td>\n",
       "      <td>16317</td>\n",
       "    </tr>\n",
       "  </tbody>\n",
       "</table>\n",
       "<p>4 rows × 26 columns</p>\n",
       "</div>"
      ],
      "text/plain": [
       "              Event_Id Investigation_Type Accident_Number  Event_Date  \\\n",
       "count            88889              90348           88889       88889   \n",
       "unique           87951                 71           88863       14782   \n",
       "top     20001212X19172           Accident      CEN22LA149  1984-06-30   \n",
       "freq                 3              85015               2          25   \n",
       "\n",
       "             Location        Country Latitude Longitude Airport_Code  \\\n",
       "count           88837          88663    34382     34373        50132   \n",
       "unique          27758            219    25589     27154        10374   \n",
       "top     ANCHORAGE, AK  United States  332739N  0112457W         NONE   \n",
       "freq              434          82248       19        24         1488   \n",
       "\n",
       "       Airport_Name  ... Amateur_Built    Engine_Type FAR_Description  \\\n",
       "count         52704  ...         88787          81793           32023   \n",
       "unique        24870  ...             2             12              31   \n",
       "top         Private  ...            No  Reciprocating             091   \n",
       "freq            240  ...         80312          69530           18221   \n",
       "\n",
       "       Schedule Purpose_of_flight Air_carrier Weather_Condition  \\\n",
       "count     12582             82697       16648             84397   \n",
       "unique        3                26       13590                 4   \n",
       "top        NSCH          Personal       Pilot               VMC   \n",
       "freq       4474             49448         258             77303   \n",
       "\n",
       "       Broad_phase_of_flight   Report_Status Publication_Date  \n",
       "count                  61724           82505            73659  \n",
       "unique                    12           17006             2923  \n",
       "top                  Landing  Probable Cause       25-09-2020  \n",
       "freq                   15428           61754            16317  \n",
       "\n",
       "[4 rows x 26 columns]"
      ]
     },
     "execution_count": 108,
     "metadata": {},
     "output_type": "execute_result"
    }
   ],
   "source": [
    "#descriprtive statistics\n",
    "df.describe(include='object')"
   ]
  },
  {
   "cell_type": "code",
   "execution_count": 109,
   "metadata": {},
   "outputs": [
    {
     "data": {
      "image/png": "[encoded data removed]",
      "text/plain": [
       "<Figure size 640x480 with 1 Axes>"
      ]
     },
     "metadata": {},
     "output_type": "display_data"
    },
    {
     "data": {
      "image/png": "[encoded data removed]",
      "text/plain": [
       "<Figure size 640x480 with 1 Axes>"
      ]
     },
     "metadata": {},
     "output_type": "display_data"
    },
    {
     "data": {
      "image/png": "[encoded data removed]",
      "text/plain": [
       "<Figure size 640x480 with 1 Axes>"
      ]
     },
     "metadata": {},
     "output_type": "display_data"
    },
    {
     "data": {
      "image/png": "[encoded data removed]",
      "text/plain": [
       "<Figure size 640x480 with 1 Axes>"
      ]
     },
     "metadata": {},
     "output_type": "display_data"
    },
    {
     "data": {
      "image/png": "[encoded data removed]",
      "text/plain": [
       "<Figure size 640x480 with 1 Axes>"
      ]
     },
     "metadata": {},
     "output_type": "display_data"
    }
   ],
   "source": [
    "# histogram to understand distribution\n",
    "for i in df.select_dtypes(include='number').columns:\n",
    "    sns.histplot(data=df, x=i)\n",
    "    plt.show()"
   ]
  },
  {
   "cell_type": "code",
   "execution_count": 110,
   "metadata": {},
   "outputs": [
    {
     "data": {
      "image/png": "[encoded data removed]",
      "text/plain": [
       "<Figure size 640x480 with 1 Axes>"
      ]
     },
     "metadata": {},
     "output_type": "display_data"
    },
    {
     "data": {
      "image/png": "[encoded data removed]",
      "text/plain": [
       "<Figure size 640x480 with 1 Axes>"
      ]
     },
     "metadata": {},
     "output_type": "display_data"
    },
    {
     "data": {
      "image/png": "[encoded data removed]",
      "text/plain": [
       "<Figure size 640x480 with 1 Axes>"
      ]
     },
     "metadata": {},
     "output_type": "display_data"
    },
    {
     "data": {
      "image/png": "[encoded data removed]",
      "text/plain": [
       "<Figure size 640x480 with 1 Axes>"
      ]
     },
     "metadata": {},
     "output_type": "display_data"
    },
    {
     "data": {
      "image/png": "[encoded data removed]",
      "text/plain": [
       "<Figure size 640x480 with 1 Axes>"
      ]
     },
     "metadata": {},
     "output_type": "display_data"
    }
   ],
   "source": [
    "# boxplot to identify outliers\n",
    "for i in df.select_dtypes(include='number').columns:\n",
    "    sns.boxplot(data=df, x=i)\n",
    "    plt.show()"
   ]
  },
  {
   "cell_type": "code",
   "execution_count": 111,
   "metadata": {},
   "outputs": [
    {
     "data": {
      "text/plain": [
       "Index(['Number_of_Engines', 'Total_Fatal_Injuries', 'Total_Serious_Injuries',\n",
       "       'Total_Minor_Injuries', 'Total_Uninjured'],\n",
       "      dtype='object')"
      ]
     },
     "execution_count": 111,
     "metadata": {},
     "output_type": "execute_result"
    }
   ],
   "source": [
    "#Scatter plot to understand rekationship\n",
    "#first identifyinng columns with numeric data.\n",
    "\n",
    "df.select_dtypes(include='number').columns"
   ]
  },
  {
   "cell_type": "code",
   "execution_count": 112,
   "metadata": {},
   "outputs": [
    {
     "data": {
      "image/png": "[encoded data removed]",
      "text/plain": [
       "<Figure size 640x480 with 1 Axes>"
      ]
     },
     "metadata": {},
     "output_type": "display_data"
    },
    {
     "data": {
      "image/png": "[encoded data removed]",
      "text/plain": [
       "<Figure size 640x480 with 1 Axes>"
      ]
     },
     "metadata": {},
     "output_type": "display_data"
    },
    {
     "data": {
      "image/png": "[encoded data removed]",
      "text/plain": [
       "<Figure size 640x480 with 1 Axes>"
      ]
     },
     "metadata": {},
     "output_type": "display_data"
    },
    {
     "data": {
      "image/png": "[encoded data removed]",
      "text/plain": [
       "<Figure size 640x480 with 1 Axes>"
      ]
     },
     "metadata": {},
     "output_type": "display_data"
    }
   ],
   "source": [
    "#plotting the scatter plot\n",
    "for i in ['Number_of_Engines','Total_Serious_Injuries','Total_Minor_Injuries', 'Total_Uninjured']:\n",
    " sns.scatterplot(data=df, x=i ,y='Total_Fatal_Injuries')\n",
    " plt.show()"
   ]
  },
  {
   "cell_type": "code",
   "execution_count": 113,
   "metadata": {},
   "outputs": [
    {
     "data": {
      "text/plain": [
       "<Axes: >"
      ]
     },
     "execution_count": 113,
     "metadata": {},
     "output_type": "execute_result"
    },
    {
     "data": {
      "image/png": "[encoded data removed]",
      "text/plain": [
       "<Figure size 600x400 with 2 Axes>"
      ]
     },
     "metadata": {},
     "output_type": "display_data"
    }
   ],
   "source": [
    "# correlation with heatmap to innterpret relation and multicolliniarity\n",
    "\n",
    "#selecting numeric columns to compute correlation and assigning it to a dataframe s\n",
    "s=df.select_dtypes(include='number').corr()\n",
    "\n",
    "#plotting the correlatiion using a heatmap\n",
    "\n",
    "plt.figure(figsize=(6,4))\n",
    "sns.heatmap(s, annot=True)"
   ]
  },
  {
   "cell_type": "markdown",
   "metadata": {},
   "source": [
    "## Data cleaning\n",
    "\n",
    "Handling missing values , Handling outliers, ensuring the datatypes are correct\n",
    "\n",
    "### 1.Handling missing values\n",
    "\n",
    "After identifying the missing values based on their percentages and importance of the column ,some columns will be dropped ,others will be filled with either median or mode or zero or unknown."
   ]
  },
  {
   "cell_type": "code",
   "execution_count": 114,
   "metadata": {},
   "outputs": [
    {
     "data": {
      "text/plain": [
       "Event_Id                   1.614867\n",
       "Investigation_Type         0.000000\n",
       "Accident_Number            1.614867\n",
       "Event_Date                 1.614867\n",
       "Location                   1.672422\n",
       "Country                    1.865011\n",
       "Latitude                  61.944924\n",
       "Longitude                 61.954886\n",
       "Airport_Code              44.512330\n",
       "Airport_Name              41.665560\n",
       "Injury_Severity            2.721698\n",
       "Aircraft_damage            5.150086\n",
       "Aircraft_Category         64.263736\n",
       "Registration_Number        3.144508\n",
       "Make                       1.684597\n",
       "Model                      1.716695\n",
       "Amateur_Built              1.727764\n",
       "Number_of_Engines          8.348829\n",
       "Engine_Type                9.468942\n",
       "FAR_Description           64.555939\n",
       "Schedule                  86.073848\n",
       "Purpose_of_flight          8.468367\n",
       "Air_carrier               81.573471\n",
       "Total_Fatal_Injuries      14.233851\n",
       "Total_Serious_Injuries    15.461327\n",
       "Total_Minor_Injuries      14.822686\n",
       "Total_Uninjured            8.158454\n",
       "Weather_Condition          6.586753\n",
       "Broad_phase_of_flight     31.681941\n",
       "Report_Status              8.680878\n",
       "Publication_Date          18.471909\n",
       "dtype: float64"
      ]
     },
     "execution_count": 114,
     "metadata": {},
     "output_type": "execute_result"
    }
   ],
   "source": [
    "#identify Missing values\n",
    "df.isnull().sum()/df.shape[0] * 100"
   ]
  },
  {
   "cell_type": "code",
   "execution_count": 115,
   "metadata": {},
   "outputs": [],
   "source": [
    "#Dropping columns with higher percentages\n",
    "columns_to_drop = ['Latitude', 'Longitude', 'Airport_Code', 'Airport_Name','FAR_Description',\n",
    "                   'Schedule', 'Air_carrier','Publication_Date']\n",
    "df = df.drop(columns=columns_to_drop, errors='ignore')"
   ]
  },
  {
   "cell_type": "code",
   "execution_count": 116,
   "metadata": {},
   "outputs": [
    {
     "data": {
      "text/plain": [
       "Index(['Event_Id', 'Investigation_Type', 'Accident_Number', 'Event_Date',\n",
       "       'Location', 'Country', 'Injury_Severity', 'Aircraft_damage',\n",
       "       'Aircraft_Category', 'Registration_Number', 'Make', 'Model',\n",
       "       'Amateur_Built', 'Number_of_Engines', 'Engine_Type',\n",
       "       'Purpose_of_flight', 'Total_Fatal_Injuries', 'Total_Serious_Injuries',\n",
       "       'Total_Minor_Injuries', 'Total_Uninjured', 'Weather_Condition',\n",
       "       'Broad_phase_of_flight', 'Report_Status'],\n",
       "      dtype='object')"
      ]
     },
     "execution_count": 116,
     "metadata": {},
     "output_type": "execute_result"
    }
   ],
   "source": [
    "#confirming the dropped columns above are dropped\n",
    "df.columns"
   ]
  },
  {
   "cell_type": "code",
   "execution_count": 117,
   "metadata": {},
   "outputs": [],
   "source": [
    "#Filling categorical data with unknown\n",
    "df['Broad_phase_of_flight']= df['Broad_phase_of_flight'].fillna('unknown')\n",
    "df['Engine_Type']= df['Engine_Type'].fillna('unknown')\n",
    "df['Purpose_of_flight']= df['Purpose_of_flight'].fillna('unknown')\n",
    "df['Weather_Condition']= df['Weather_Condition'].fillna('unknown')\n",
    "df['Aircraft_damage']= df['Aircraft_damage'].fillna('unknown')\n",
    "df['Registration_Number']= df['Registration_Number'].fillna('unknown')\n",
    "df['Location']= df['Location'].fillna('unknown')\n",
    "df['Aircraft_Category']= df['Aircraft_Category'].fillna('unknown')"
   ]
  },
  {
   "cell_type": "code",
   "execution_count": 118,
   "metadata": {},
   "outputs": [],
   "source": [
    "#drop rows where we have unique identifiers missing\n",
    "df.dropna(subset=['Event_Id','Accident_Number'], inplace=True)"
   ]
  },
  {
   "cell_type": "code",
   "execution_count": 119,
   "metadata": {},
   "outputs": [],
   "source": [
    "#filling numerics with 0 \n",
    "##injuries filled with zero because there is a possibility of no injury\n",
    "zero_injuries = ['Total_Fatal_Injuries','Total_Serious_Injuries','Total_Minor_Injuries','Total_Uninjured']\n",
    "df[zero_injuries] = df[zero_injuries].fillna(0)"
   ]
  },
  {
   "cell_type": "code",
   "execution_count": 120,
   "metadata": {},
   "outputs": [],
   "source": [
    "#Filling number of engines wiith median\n",
    "df['Number_of_Engines'] = df['Number_of_Engines'].fillna(df['Number_of_Engines'].median())"
   ]
  },
  {
   "cell_type": "code",
   "execution_count": 121,
   "metadata": {},
   "outputs": [],
   "source": [
    "#filling with mode\n",
    "\n",
    "mode_filled_columns = ['Country','Model','Make','Amateur_Built', 'Report_Status']\n",
    "\n",
    "for col in mode_filled_columns:\n",
    " df[col] = df[col].fillna(df[col].mode()[0])"
   ]
  },
  {
   "cell_type": "code",
   "execution_count": 122,
   "metadata": {},
   "outputs": [
    {
     "data": {
      "text/plain": [
       "Injury_Severity           1000\n",
       "Event_Id                     0\n",
       "Amateur_Built                0\n",
       "Broad_phase_of_flight        0\n",
       "Weather_Condition            0\n",
       "Total_Uninjured              0\n",
       "Total_Minor_Injuries         0\n",
       "Total_Serious_Injuries       0\n",
       "Total_Fatal_Injuries         0\n",
       "Purpose_of_flight            0\n",
       "Engine_Type                  0\n",
       "Number_of_Engines            0\n",
       "Model                        0\n",
       "Investigation_Type           0\n",
       "Make                         0\n",
       "Registration_Number          0\n",
       "Aircraft_Category            0\n",
       "Aircraft_damage              0\n",
       "Country                      0\n",
       "Location                     0\n",
       "Event_Date                   0\n",
       "Accident_Number              0\n",
       "Report_Status                0\n",
       "dtype: int64"
      ]
     },
     "execution_count": 122,
     "metadata": {},
     "output_type": "execute_result"
    }
   ],
   "source": [
    "df.isnull().sum().sort_values(ascending=False)"
   ]
  },
  {
   "cell_type": "code",
   "execution_count": 123,
   "metadata": {},
   "outputs": [
    {
     "data": {
      "text/plain": [
       "Injury_Severity\n",
       "Non-Fatal      67357\n",
       "Fatal          17826\n",
       "Incident        2219\n",
       "nan             1000\n",
       "Minor            218\n",
       "Serious          173\n",
       "Unavailable       96\n",
       "Name: count, dtype: int64"
      ]
     },
     "execution_count": 123,
     "metadata": {},
     "output_type": "execute_result"
    }
   ],
   "source": [
    "df['Injury_Severity'] = df['Injury_Severity'].astype(str)\n",
    "\n",
    "#split and then strip to renomve parenthesis and anyother whitespace\n",
    "df['Injury_Severity'] = df['Injury_Severity'].str.split('(').str[0].str.strip()\n",
    "\n",
    "df['Injury_Severity'].value_counts(dropna=False)"
   ]
  },
  {
   "cell_type": "code",
   "execution_count": 124,
   "metadata": {},
   "outputs": [
    {
     "data": {
      "text/plain": [
       "Event_Id                  0\n",
       "Amateur_Built             0\n",
       "Broad_phase_of_flight     0\n",
       "Weather_Condition         0\n",
       "Total_Uninjured           0\n",
       "Total_Minor_Injuries      0\n",
       "Total_Serious_Injuries    0\n",
       "Total_Fatal_Injuries      0\n",
       "Purpose_of_flight         0\n",
       "Engine_Type               0\n",
       "Number_of_Engines         0\n",
       "Model                     0\n",
       "Investigation_Type        0\n",
       "Make                      0\n",
       "Registration_Number       0\n",
       "Aircraft_Category         0\n",
       "Aircraft_damage           0\n",
       "Injury_Severity           0\n",
       "Country                   0\n",
       "Location                  0\n",
       "Event_Date                0\n",
       "Accident_Number           0\n",
       "Report_Status             0\n",
       "dtype: int64"
      ]
     },
     "execution_count": 124,
     "metadata": {},
     "output_type": "execute_result"
    }
   ],
   "source": [
    "df.isnull().sum().sort_values(ascending=False)"
   ]
  },
  {
   "cell_type": "code",
   "execution_count": 125,
   "metadata": {},
   "outputs": [],
   "source": [
    "#converting the nan from string  then dropping them for clear accurate analysis\n",
    "df['Injury_Severity'] = df['Injury_Severity'].replace('nan',np.nan)\n",
    "df=df.dropna(subset=['Injury_Severity'] )"
   ]
  },
  {
   "cell_type": "code",
   "execution_count": 126,
   "metadata": {},
   "outputs": [
    {
     "data": {
      "text/plain": [
       "Event_Id                  0\n",
       "Amateur_Built             0\n",
       "Broad_phase_of_flight     0\n",
       "Weather_Condition         0\n",
       "Total_Uninjured           0\n",
       "Total_Minor_Injuries      0\n",
       "Total_Serious_Injuries    0\n",
       "Total_Fatal_Injuries      0\n",
       "Purpose_of_flight         0\n",
       "Engine_Type               0\n",
       "Number_of_Engines         0\n",
       "Model                     0\n",
       "Investigation_Type        0\n",
       "Make                      0\n",
       "Registration_Number       0\n",
       "Aircraft_Category         0\n",
       "Aircraft_damage           0\n",
       "Injury_Severity           0\n",
       "Country                   0\n",
       "Location                  0\n",
       "Event_Date                0\n",
       "Accident_Number           0\n",
       "Report_Status             0\n",
       "dtype: int64"
      ]
     },
     "execution_count": 126,
     "metadata": {},
     "output_type": "execute_result"
    }
   ],
   "source": [
    "df.isnull().sum().sort_values(ascending=False)"
   ]
  },
  {
   "cell_type": "code",
   "execution_count": 127,
   "metadata": {},
   "outputs": [
    {
     "data": {
      "text/plain": [
       "0"
      ]
     },
     "execution_count": 127,
     "metadata": {},
     "output_type": "execute_result"
    }
   ],
   "source": [
    "#checking for missing values in injury severity\n",
    "df['Injury_Severity'].isna().sum()"
   ]
  },
  {
   "cell_type": "markdown",
   "metadata": {},
   "source": [
    "### 2.Handling outliers\n",
    "\n",
    "Earlier we detected presence of outliers ,the columns with numerical data are selected \n",
    "Using the percentile method to deal with outliers it provides a reasonable values to work with compared to IQR method"
   ]
  },
  {
   "cell_type": "code",
   "execution_count": 128,
   "metadata": {},
   "outputs": [
    {
     "data": {
      "text/plain": [
       "Number_of_Engines         float64\n",
       "Total_Fatal_Injuries      float64\n",
       "Total_Serious_Injuries    float64\n",
       "Total_Minor_Injuries      float64\n",
       "Total_Uninjured           float64\n",
       "dtype: object"
      ]
     },
     "execution_count": 128,
     "metadata": {},
     "output_type": "execute_result"
    }
   ],
   "source": [
    "#columns with numeric data only\n",
    "df.select_dtypes(include='number').dtypes"
   ]
  },
  {
   "cell_type": "markdown",
   "metadata": {},
   "source": [
    "#### using the percentile method"
   ]
  },
  {
   "cell_type": "code",
   "execution_count": 129,
   "metadata": {},
   "outputs": [
    {
     "name": "stdout",
     "output_type": "stream",
     "text": [
      "upper limit: 3.0\n",
      "lower limit: 0.0\n"
     ]
    }
   ],
   "source": [
    "#using the upper and lower limit \n",
    "upper_limit = df['Total_Serious_Injuries'].quantile(0.99)\n",
    "lower_limit = df['Total_Serious_Injuries'].quantile(0.01)\n",
    "print('upper limit:', upper_limit)\n",
    "print('lower limit:', lower_limit)"
   ]
  },
  {
   "cell_type": "code",
   "execution_count": 130,
   "metadata": {},
   "outputs": [
    {
     "data": {
      "text/plain": [
       "<Axes: >"
      ]
     },
     "execution_count": 130,
     "metadata": {},
     "output_type": "execute_result"
    },
    {
     "data": {
      "image/png": "[encoded data removed]",
      "text/plain": [
       "<Figure size 640x480 with 1 Axes>"
      ]
     },
     "metadata": {},
     "output_type": "display_data"
    }
   ],
   "source": [
    "#boxplot visual to show the distribution with outliers\n",
    "sns.boxplot(df['Total_Serious_Injuries'])"
   ]
  },
  {
   "cell_type": "code",
   "execution_count": 131,
   "metadata": {},
   "outputs": [
    {
     "data": {
      "text/html": [
       "<div>\n",
       "<style scoped>\n",
       "    .dataframe tbody tr th:only-of-type {\n",
       "        vertical-align: middle;\n",
       "    }\n",
       "\n",
       "    .dataframe tbody tr th {\n",
       "        vertical-align: top;\n",
       "    }\n",
       "\n",
       "    .dataframe thead th {\n",
       "        text-align: right;\n",
       "    }\n",
       "</style>\n",
       "<table border=\"1\" class=\"dataframe\">\n",
       "  <thead>\n",
       "    <tr style=\"text-align: right;\">\n",
       "      <th></th>\n",
       "      <th>Event_Id</th>\n",
       "      <th>Investigation_Type</th>\n",
       "      <th>Accident_Number</th>\n",
       "      <th>Event_Date</th>\n",
       "      <th>Location</th>\n",
       "      <th>Country</th>\n",
       "      <th>Injury_Severity</th>\n",
       "      <th>Aircraft_damage</th>\n",
       "      <th>Aircraft_Category</th>\n",
       "      <th>Registration_Number</th>\n",
       "      <th>...</th>\n",
       "      <th>Number_of_Engines</th>\n",
       "      <th>Engine_Type</th>\n",
       "      <th>Purpose_of_flight</th>\n",
       "      <th>Total_Fatal_Injuries</th>\n",
       "      <th>Total_Serious_Injuries</th>\n",
       "      <th>Total_Minor_Injuries</th>\n",
       "      <th>Total_Uninjured</th>\n",
       "      <th>Weather_Condition</th>\n",
       "      <th>Broad_phase_of_flight</th>\n",
       "      <th>Report_Status</th>\n",
       "    </tr>\n",
       "  </thead>\n",
       "  <tbody>\n",
       "    <tr>\n",
       "      <th>84</th>\n",
       "      <td>20020917X01907</td>\n",
       "      <td>Accident</td>\n",
       "      <td>DCA82AA011</td>\n",
       "      <td>1982-01-13</td>\n",
       "      <td>WASHINGTON, DC</td>\n",
       "      <td>United States</td>\n",
       "      <td>Fatal</td>\n",
       "      <td>Destroyed</td>\n",
       "      <td>unknown</td>\n",
       "      <td>N62AF</td>\n",
       "      <td>...</td>\n",
       "      <td>2.0</td>\n",
       "      <td>Turbo Fan</td>\n",
       "      <td>Unknown</td>\n",
       "      <td>78.0</td>\n",
       "      <td>6.0</td>\n",
       "      <td>3.0</td>\n",
       "      <td>0.0</td>\n",
       "      <td>IMC</td>\n",
       "      <td>Takeoff</td>\n",
       "      <td>Probable Cause</td>\n",
       "    </tr>\n",
       "    <tr>\n",
       "      <th>155</th>\n",
       "      <td>20020917X01909</td>\n",
       "      <td>Accident</td>\n",
       "      <td>DCA82AA013</td>\n",
       "      <td>1982-01-23</td>\n",
       "      <td>BOSTON, MA</td>\n",
       "      <td>United States</td>\n",
       "      <td>Fatal</td>\n",
       "      <td>Destroyed</td>\n",
       "      <td>Airplane</td>\n",
       "      <td>N113WA</td>\n",
       "      <td>...</td>\n",
       "      <td>3.0</td>\n",
       "      <td>Turbo Fan</td>\n",
       "      <td>Unknown</td>\n",
       "      <td>2.0</td>\n",
       "      <td>4.0</td>\n",
       "      <td>24.0</td>\n",
       "      <td>182.0</td>\n",
       "      <td>IMC</td>\n",
       "      <td>Landing</td>\n",
       "      <td>Probable Cause</td>\n",
       "    </tr>\n",
       "    <tr>\n",
       "      <th>214</th>\n",
       "      <td>20020917X02480</td>\n",
       "      <td>Accident</td>\n",
       "      <td>NYC82AA028</td>\n",
       "      <td>1982-02-01</td>\n",
       "      <td>GROTON, CT</td>\n",
       "      <td>United States</td>\n",
       "      <td>Non-Fatal</td>\n",
       "      <td>Destroyed</td>\n",
       "      <td>Airplane</td>\n",
       "      <td>N451C</td>\n",
       "      <td>...</td>\n",
       "      <td>2.0</td>\n",
       "      <td>Turbo Prop</td>\n",
       "      <td>Unknown</td>\n",
       "      <td>0.0</td>\n",
       "      <td>5.0</td>\n",
       "      <td>2.0</td>\n",
       "      <td>0.0</td>\n",
       "      <td>IMC</td>\n",
       "      <td>Approach</td>\n",
       "      <td>Probable Cause</td>\n",
       "    </tr>\n",
       "    <tr>\n",
       "      <th>256</th>\n",
       "      <td>20020917X02284</td>\n",
       "      <td>Accident</td>\n",
       "      <td>LAX82FJA04</td>\n",
       "      <td>1982-02-07</td>\n",
       "      <td>KALAUPAPA, HI</td>\n",
       "      <td>United States</td>\n",
       "      <td>Non-Fatal</td>\n",
       "      <td>Destroyed</td>\n",
       "      <td>Airplane</td>\n",
       "      <td>N16524</td>\n",
       "      <td>...</td>\n",
       "      <td>1.0</td>\n",
       "      <td>Reciprocating</td>\n",
       "      <td>Personal</td>\n",
       "      <td>0.0</td>\n",
       "      <td>4.0</td>\n",
       "      <td>0.0</td>\n",
       "      <td>0.0</td>\n",
       "      <td>VMC</td>\n",
       "      <td>Landing</td>\n",
       "      <td>Probable Cause</td>\n",
       "    </tr>\n",
       "    <tr>\n",
       "      <th>295</th>\n",
       "      <td>20020917X01896</td>\n",
       "      <td>Accident</td>\n",
       "      <td>CHI82FEG02</td>\n",
       "      <td>1982-02-12</td>\n",
       "      <td>PLEASANT HILL, OH</td>\n",
       "      <td>United States</td>\n",
       "      <td>Non-Fatal</td>\n",
       "      <td>Destroyed</td>\n",
       "      <td>Airplane</td>\n",
       "      <td>N5266P</td>\n",
       "      <td>...</td>\n",
       "      <td>1.0</td>\n",
       "      <td>Reciprocating</td>\n",
       "      <td>Personal</td>\n",
       "      <td>0.0</td>\n",
       "      <td>4.0</td>\n",
       "      <td>0.0</td>\n",
       "      <td>0.0</td>\n",
       "      <td>VMC</td>\n",
       "      <td>Cruise</td>\n",
       "      <td>Probable Cause</td>\n",
       "    </tr>\n",
       "    <tr>\n",
       "      <th>...</th>\n",
       "      <td>...</td>\n",
       "      <td>...</td>\n",
       "      <td>...</td>\n",
       "      <td>...</td>\n",
       "      <td>...</td>\n",
       "      <td>...</td>\n",
       "      <td>...</td>\n",
       "      <td>...</td>\n",
       "      <td>...</td>\n",
       "      <td>...</td>\n",
       "      <td>...</td>\n",
       "      <td>...</td>\n",
       "      <td>...</td>\n",
       "      <td>...</td>\n",
       "      <td>...</td>\n",
       "      <td>...</td>\n",
       "      <td>...</td>\n",
       "      <td>...</td>\n",
       "      <td>...</td>\n",
       "      <td>...</td>\n",
       "      <td>...</td>\n",
       "    </tr>\n",
       "    <tr>\n",
       "      <th>89122</th>\n",
       "      <td>20220506105048</td>\n",
       "      <td>Accident</td>\n",
       "      <td>CEN22LA190</td>\n",
       "      <td>2022-05-06</td>\n",
       "      <td>Houston, TX</td>\n",
       "      <td>United States</td>\n",
       "      <td>Minor</td>\n",
       "      <td>Substantial</td>\n",
       "      <td>Airplane</td>\n",
       "      <td>XB-FQS</td>\n",
       "      <td>...</td>\n",
       "      <td>2.0</td>\n",
       "      <td>unknown</td>\n",
       "      <td>Personal</td>\n",
       "      <td>0.0</td>\n",
       "      <td>4.0</td>\n",
       "      <td>0.0</td>\n",
       "      <td>0.0</td>\n",
       "      <td>VMC</td>\n",
       "      <td>unknown</td>\n",
       "      <td>Probable Cause</td>\n",
       "    </tr>\n",
       "    <tr>\n",
       "      <th>89237</th>\n",
       "      <td>20220830105828</td>\n",
       "      <td>Accident</td>\n",
       "      <td>DCA22WA190</td>\n",
       "      <td>2022-05-27</td>\n",
       "      <td>Lahore,</td>\n",
       "      <td>Pakistan</td>\n",
       "      <td>Serious</td>\n",
       "      <td>unknown</td>\n",
       "      <td>Airplane</td>\n",
       "      <td>A6-BLF</td>\n",
       "      <td>...</td>\n",
       "      <td>1.0</td>\n",
       "      <td>unknown</td>\n",
       "      <td>unknown</td>\n",
       "      <td>0.0</td>\n",
       "      <td>6.0</td>\n",
       "      <td>1.0</td>\n",
       "      <td>121.0</td>\n",
       "      <td>unknown</td>\n",
       "      <td>unknown</td>\n",
       "      <td>Probable Cause</td>\n",
       "    </tr>\n",
       "    <tr>\n",
       "      <th>89404</th>\n",
       "      <td>20220622105298</td>\n",
       "      <td>Accident</td>\n",
       "      <td>DCA22FA132</td>\n",
       "      <td>2022-06-21</td>\n",
       "      <td>Miami, FL</td>\n",
       "      <td>United States</td>\n",
       "      <td>Minor</td>\n",
       "      <td>Substantial</td>\n",
       "      <td>Airplane</td>\n",
       "      <td>HI-1064</td>\n",
       "      <td>...</td>\n",
       "      <td>1.0</td>\n",
       "      <td>unknown</td>\n",
       "      <td>unknown</td>\n",
       "      <td>0.0</td>\n",
       "      <td>4.0</td>\n",
       "      <td>0.0</td>\n",
       "      <td>136.0</td>\n",
       "      <td>unknown</td>\n",
       "      <td>unknown</td>\n",
       "      <td>Probable Cause</td>\n",
       "    </tr>\n",
       "    <tr>\n",
       "      <th>89672</th>\n",
       "      <td>20220802105639</td>\n",
       "      <td>Accident</td>\n",
       "      <td>ANC22LA063</td>\n",
       "      <td>2022-07-26</td>\n",
       "      <td>Anchorage, AK</td>\n",
       "      <td>United States</td>\n",
       "      <td>Serious</td>\n",
       "      <td>Substantial</td>\n",
       "      <td>Airplane</td>\n",
       "      <td>N9776R</td>\n",
       "      <td>...</td>\n",
       "      <td>1.0</td>\n",
       "      <td>Reciprocating</td>\n",
       "      <td>Aerial Observation</td>\n",
       "      <td>0.0</td>\n",
       "      <td>4.0</td>\n",
       "      <td>2.0</td>\n",
       "      <td>1.0</td>\n",
       "      <td>VMC</td>\n",
       "      <td>unknown</td>\n",
       "      <td>The pilots failure to maintain directional co...</td>\n",
       "    </tr>\n",
       "    <tr>\n",
       "      <th>89959</th>\n",
       "      <td>20220913105922</td>\n",
       "      <td>Accident</td>\n",
       "      <td>GAA22WA278</td>\n",
       "      <td>2022-09-10</td>\n",
       "      <td>Oriximina, OF</td>\n",
       "      <td>Brazil</td>\n",
       "      <td>Fatal</td>\n",
       "      <td>Substantial</td>\n",
       "      <td>Airplane</td>\n",
       "      <td>PT-MES</td>\n",
       "      <td>...</td>\n",
       "      <td>1.0</td>\n",
       "      <td>unknown</td>\n",
       "      <td>unknown</td>\n",
       "      <td>1.0</td>\n",
       "      <td>5.0</td>\n",
       "      <td>0.0</td>\n",
       "      <td>0.0</td>\n",
       "      <td>unknown</td>\n",
       "      <td>unknown</td>\n",
       "      <td>Probable Cause</td>\n",
       "    </tr>\n",
       "  </tbody>\n",
       "</table>\n",
       "<p>521 rows × 23 columns</p>\n",
       "</div>"
      ],
      "text/plain": [
       "             Event_Id Investigation_Type Accident_Number  Event_Date  \\\n",
       "84     20020917X01907           Accident      DCA82AA011  1982-01-13   \n",
       "155    20020917X01909           Accident      DCA82AA013  1982-01-23   \n",
       "214    20020917X02480           Accident      NYC82AA028  1982-02-01   \n",
       "256    20020917X02284           Accident      LAX82FJA04  1982-02-07   \n",
       "295    20020917X01896           Accident      CHI82FEG02  1982-02-12   \n",
       "...               ...                ...             ...         ...   \n",
       "89122  20220506105048           Accident      CEN22LA190  2022-05-06   \n",
       "89237  20220830105828           Accident      DCA22WA190  2022-05-27   \n",
       "89404  20220622105298           Accident      DCA22FA132  2022-06-21   \n",
       "89672  20220802105639           Accident      ANC22LA063  2022-07-26   \n",
       "89959  20220913105922           Accident      GAA22WA278  2022-09-10   \n",
       "\n",
       "                Location        Country Injury_Severity Aircraft_damage  \\\n",
       "84        WASHINGTON, DC  United States           Fatal       Destroyed   \n",
       "155           BOSTON, MA  United States           Fatal       Destroyed   \n",
       "214           GROTON, CT  United States       Non-Fatal       Destroyed   \n",
       "256        KALAUPAPA, HI  United States       Non-Fatal       Destroyed   \n",
       "295    PLEASANT HILL, OH  United States       Non-Fatal       Destroyed   \n",
       "...                  ...            ...             ...             ...   \n",
       "89122        Houston, TX  United States           Minor     Substantial   \n",
       "89237           Lahore,        Pakistan         Serious         unknown   \n",
       "89404          Miami, FL  United States           Minor     Substantial   \n",
       "89672      Anchorage, AK  United States         Serious     Substantial   \n",
       "89959      Oriximina, OF         Brazil           Fatal     Substantial   \n",
       "\n",
       "      Aircraft_Category Registration_Number  ... Number_of_Engines  \\\n",
       "84              unknown               N62AF  ...               2.0   \n",
       "155            Airplane              N113WA  ...               3.0   \n",
       "214            Airplane               N451C  ...               2.0   \n",
       "256            Airplane              N16524  ...               1.0   \n",
       "295            Airplane              N5266P  ...               1.0   \n",
       "...                 ...                 ...  ...               ...   \n",
       "89122          Airplane              XB-FQS  ...               2.0   \n",
       "89237          Airplane              A6-BLF  ...               1.0   \n",
       "89404          Airplane             HI-1064  ...               1.0   \n",
       "89672          Airplane              N9776R  ...               1.0   \n",
       "89959          Airplane              PT-MES  ...               1.0   \n",
       "\n",
       "         Engine_Type   Purpose_of_flight  Total_Fatal_Injuries  \\\n",
       "84         Turbo Fan             Unknown                  78.0   \n",
       "155        Turbo Fan             Unknown                   2.0   \n",
       "214       Turbo Prop             Unknown                   0.0   \n",
       "256    Reciprocating            Personal                   0.0   \n",
       "295    Reciprocating            Personal                   0.0   \n",
       "...              ...                 ...                   ...   \n",
       "89122        unknown            Personal                   0.0   \n",
       "89237        unknown             unknown                   0.0   \n",
       "89404        unknown             unknown                   0.0   \n",
       "89672  Reciprocating  Aerial Observation                   0.0   \n",
       "89959        unknown             unknown                   1.0   \n",
       "\n",
       "      Total_Serious_Injuries Total_Minor_Injuries  Total_Uninjured  \\\n",
       "84                       6.0                  3.0              0.0   \n",
       "155                      4.0                 24.0            182.0   \n",
       "214                      5.0                  2.0              0.0   \n",
       "256                      4.0                  0.0              0.0   \n",
       "295                      4.0                  0.0              0.0   \n",
       "...                      ...                  ...              ...   \n",
       "89122                    4.0                  0.0              0.0   \n",
       "89237                    6.0                  1.0            121.0   \n",
       "89404                    4.0                  0.0            136.0   \n",
       "89672                    4.0                  2.0              1.0   \n",
       "89959                    5.0                  0.0              0.0   \n",
       "\n",
       "       Weather_Condition  Broad_phase_of_flight  \\\n",
       "84                   IMC                Takeoff   \n",
       "155                  IMC                Landing   \n",
       "214                  IMC               Approach   \n",
       "256                  VMC                Landing   \n",
       "295                  VMC                 Cruise   \n",
       "...                  ...                    ...   \n",
       "89122                VMC                unknown   \n",
       "89237            unknown                unknown   \n",
       "89404            unknown                unknown   \n",
       "89672                VMC                unknown   \n",
       "89959            unknown                unknown   \n",
       "\n",
       "                                           Report_Status  \n",
       "84                                        Probable Cause  \n",
       "155                                       Probable Cause  \n",
       "214                                       Probable Cause  \n",
       "256                                       Probable Cause  \n",
       "295                                       Probable Cause  \n",
       "...                                                  ...  \n",
       "89122                                     Probable Cause  \n",
       "89237                                     Probable Cause  \n",
       "89404                                     Probable Cause  \n",
       "89672  The pilots failure to maintain directional co...  \n",
       "89959                                     Probable Cause  \n",
       "\n",
       "[521 rows x 23 columns]"
      ]
     },
     "execution_count": 131,
     "metadata": {},
     "output_type": "execute_result"
    }
   ],
   "source": [
    "#find outliers\n",
    "df.loc[(df['Total_Serious_Injuries'] > upper_limit) | (df['Total_Serious_Injuries'] < lower_limit)]"
   ]
  },
  {
   "cell_type": "code",
   "execution_count": 132,
   "metadata": {},
   "outputs": [],
   "source": [
    "#capping-changing the outlier values to lower or upper limit \n",
    "#preserving values since serious injuries is a critical information and every value counts\n",
    "outlier_remove_df = df.copy()\n",
    "outlier_remove_df.loc[(outlier_remove_df['Total_Serious_Injuries']> upper_limit), 'Total_Serious_Injuries']=upper_limit\n",
    "outlier_remove_df.loc[(outlier_remove_df['Total_Serious_Injuries']< lower_limit), 'Total_Serious_Injuries']=lower_limit"
   ]
  },
  {
   "cell_type": "code",
   "execution_count": 133,
   "metadata": {},
   "outputs": [
    {
     "data": {
      "text/plain": [
       "<Axes: >"
      ]
     },
     "execution_count": 133,
     "metadata": {},
     "output_type": "execute_result"
    },
    {
     "data": {
      "image/png": "[encoded data removed]",
      "text/plain": [
       "<Figure size 640x480 with 1 Axes>"
      ]
     },
     "metadata": {},
     "output_type": "display_data"
    }
   ],
   "source": [
    "#boxplot after handling outliers\n",
    "sns.boxplot(outlier_remove_df['Total_Serious_Injuries'])"
   ]
  },
  {
   "cell_type": "code",
   "execution_count": 134,
   "metadata": {},
   "outputs": [],
   "source": [
    "#capping-changing the outlier values to lower or upper limit\n",
    "outlier_remove_df = df.copy()\n",
    "outlier_remove_df.loc[(outlier_remove_df['Total_Serious_Injuries']> upper_limit), 'Total_Serious_Injuries']=upper_limit\n",
    "outlier_remove_df.loc[(outlier_remove_df['Total_Serious_Injuries']< lower_limit), 'Total_Serious_Injuries']=lower_limit"
   ]
  },
  {
   "cell_type": "code",
   "execution_count": 135,
   "metadata": {},
   "outputs": [
    {
     "data": {
      "text/plain": [
       "<Axes: >"
      ]
     },
     "execution_count": 135,
     "metadata": {},
     "output_type": "execute_result"
    },
    {
     "data": {
      "image/png": "[encoded data removed]",
      "text/plain": [
       "<Figure size 640x480 with 1 Axes>"
      ]
     },
     "metadata": {},
     "output_type": "display_data"
    }
   ],
   "source": [
    "sns.boxplot(outlier_remove_df['Total_Serious_Injuries'])"
   ]
  },
  {
   "cell_type": "code",
   "execution_count": 136,
   "metadata": {},
   "outputs": [
    {
     "data": {
      "text/plain": [
       "<Axes: >"
      ]
     },
     "execution_count": 136,
     "metadata": {},
     "output_type": "execute_result"
    },
    {
     "data": {
      "image/png": "[encoded data removed]",
      "text/plain": [
       "<Figure size 640x480 with 1 Axes>"
      ]
     },
     "metadata": {},
     "output_type": "display_data"
    }
   ],
   "source": [
    "#graph before removing outliers\n",
    "sns.boxplot(df['Total_Serious_Injuries'])"
   ]
  },
  {
   "cell_type": "code",
   "execution_count": 137,
   "metadata": {},
   "outputs": [
    {
     "data": {
      "text/plain": [
       "<Axes: >"
      ]
     },
     "execution_count": 137,
     "metadata": {},
     "output_type": "execute_result"
    },
    {
     "data": {
      "image/png": "[encoded data removed]",
      "text/plain": [
       "<Figure size 640x480 with 1 Axes>"
      ]
     },
     "metadata": {},
     "output_type": "display_data"
    }
   ],
   "source": [
    "#graph after removing outliers\n",
    "sns.boxplot(outlier_remove_df['Total_Serious_Injuries'])"
   ]
  },
  {
   "cell_type": "code",
   "execution_count": 138,
   "metadata": {},
   "outputs": [
    {
     "name": "stdout",
     "output_type": "stream",
     "text": [
      "upper limit: 3.0\n",
      "lower limit: 0.0\n"
     ]
    }
   ],
   "source": [
    "#handling outliers for Number.of.Engines\n",
    "upper_limit = df['Number_of_Engines'].quantile(0.99)\n",
    "lower_limit = df['Number_of_Engines'].quantile(0.01)\n",
    "print('upper limit:', upper_limit)\n",
    "print('lower limit:', lower_limit)\n"
   ]
  },
  {
   "cell_type": "code",
   "execution_count": 139,
   "metadata": {},
   "outputs": [
    {
     "data": {
      "text/html": [
       "<div>\n",
       "<style scoped>\n",
       "    .dataframe tbody tr th:only-of-type {\n",
       "        vertical-align: middle;\n",
       "    }\n",
       "\n",
       "    .dataframe tbody tr th {\n",
       "        vertical-align: top;\n",
       "    }\n",
       "\n",
       "    .dataframe thead th {\n",
       "        text-align: right;\n",
       "    }\n",
       "</style>\n",
       "<table border=\"1\" class=\"dataframe\">\n",
       "  <thead>\n",
       "    <tr style=\"text-align: right;\">\n",
       "      <th></th>\n",
       "      <th>Event_Id</th>\n",
       "      <th>Investigation_Type</th>\n",
       "      <th>Accident_Number</th>\n",
       "      <th>Event_Date</th>\n",
       "      <th>Location</th>\n",
       "      <th>Country</th>\n",
       "      <th>Injury_Severity</th>\n",
       "      <th>Aircraft_damage</th>\n",
       "      <th>Aircraft_Category</th>\n",
       "      <th>Registration_Number</th>\n",
       "      <th>...</th>\n",
       "      <th>Number_of_Engines</th>\n",
       "      <th>Engine_Type</th>\n",
       "      <th>Purpose_of_flight</th>\n",
       "      <th>Total_Fatal_Injuries</th>\n",
       "      <th>Total_Serious_Injuries</th>\n",
       "      <th>Total_Minor_Injuries</th>\n",
       "      <th>Total_Uninjured</th>\n",
       "      <th>Weather_Condition</th>\n",
       "      <th>Broad_phase_of_flight</th>\n",
       "      <th>Report_Status</th>\n",
       "    </tr>\n",
       "  </thead>\n",
       "  <tbody>\n",
       "    <tr>\n",
       "      <th>129</th>\n",
       "      <td>20020917X02397</td>\n",
       "      <td>Accident</td>\n",
       "      <td>MIA82FA034</td>\n",
       "      <td>1982-01-19</td>\n",
       "      <td>MIAMI, FL</td>\n",
       "      <td>United States</td>\n",
       "      <td>Non-Fatal</td>\n",
       "      <td>Substantial</td>\n",
       "      <td>Airplane</td>\n",
       "      <td>HCBHS</td>\n",
       "      <td>...</td>\n",
       "      <td>4.0</td>\n",
       "      <td>Turbo Prop</td>\n",
       "      <td>Unknown</td>\n",
       "      <td>0.0</td>\n",
       "      <td>0.0</td>\n",
       "      <td>0.0</td>\n",
       "      <td>6.0</td>\n",
       "      <td>VMC</td>\n",
       "      <td>Landing</td>\n",
       "      <td>Probable Cause</td>\n",
       "    </tr>\n",
       "    <tr>\n",
       "      <th>506</th>\n",
       "      <td>20020917X02477</td>\n",
       "      <td>Incident</td>\n",
       "      <td>MKC82IA042</td>\n",
       "      <td>1982-03-08</td>\n",
       "      <td>LAS VEGAS, NV</td>\n",
       "      <td>United States</td>\n",
       "      <td>Incident</td>\n",
       "      <td>unknown</td>\n",
       "      <td>Airplane</td>\n",
       "      <td>N6728</td>\n",
       "      <td>...</td>\n",
       "      <td>4.0</td>\n",
       "      <td>Turbo Fan</td>\n",
       "      <td>Unknown</td>\n",
       "      <td>1.0</td>\n",
       "      <td>0.0</td>\n",
       "      <td>0.0</td>\n",
       "      <td>0.0</td>\n",
       "      <td>VMC</td>\n",
       "      <td>Standing</td>\n",
       "      <td>Probable Cause</td>\n",
       "    </tr>\n",
       "    <tr>\n",
       "      <th>558</th>\n",
       "      <td>20020917X02154</td>\n",
       "      <td>Accident</td>\n",
       "      <td>LAX82AA106A</td>\n",
       "      <td>1982-03-13</td>\n",
       "      <td>GLENDALE, AZ</td>\n",
       "      <td>United States</td>\n",
       "      <td>Fatal</td>\n",
       "      <td>Destroyed</td>\n",
       "      <td>Airplane</td>\n",
       "      <td>KC135</td>\n",
       "      <td>...</td>\n",
       "      <td>4.0</td>\n",
       "      <td>Turbo Jet</td>\n",
       "      <td>Unknown</td>\n",
       "      <td>6.0</td>\n",
       "      <td>0.0</td>\n",
       "      <td>0.0</td>\n",
       "      <td>0.0</td>\n",
       "      <td>UNK</td>\n",
       "      <td>Approach</td>\n",
       "      <td>Probable Cause</td>\n",
       "    </tr>\n",
       "    <tr>\n",
       "      <th>669</th>\n",
       "      <td>20020917X02279</td>\n",
       "      <td>Accident</td>\n",
       "      <td>LAX82FA119</td>\n",
       "      <td>1982-03-24</td>\n",
       "      <td>MARANA, AZ</td>\n",
       "      <td>United States</td>\n",
       "      <td>Non-Fatal</td>\n",
       "      <td>Substantial</td>\n",
       "      <td>Airplane</td>\n",
       "      <td>N752TA</td>\n",
       "      <td>...</td>\n",
       "      <td>4.0</td>\n",
       "      <td>Turbo Jet</td>\n",
       "      <td>Ferry</td>\n",
       "      <td>0.0</td>\n",
       "      <td>0.0</td>\n",
       "      <td>0.0</td>\n",
       "      <td>7.0</td>\n",
       "      <td>VMC</td>\n",
       "      <td>Landing</td>\n",
       "      <td>Probable Cause</td>\n",
       "    </tr>\n",
       "    <tr>\n",
       "      <th>1121</th>\n",
       "      <td>20020917X02909</td>\n",
       "      <td>Accident</td>\n",
       "      <td>CHI82DA156</td>\n",
       "      <td>1982-05-08</td>\n",
       "      <td>YALE, MI</td>\n",
       "      <td>United States</td>\n",
       "      <td>Non-Fatal</td>\n",
       "      <td>Substantial</td>\n",
       "      <td>Airplane</td>\n",
       "      <td>N15585</td>\n",
       "      <td>...</td>\n",
       "      <td>4.0</td>\n",
       "      <td>Reciprocating</td>\n",
       "      <td>Personal</td>\n",
       "      <td>0.0</td>\n",
       "      <td>0.0</td>\n",
       "      <td>0.0</td>\n",
       "      <td>1.0</td>\n",
       "      <td>VMC</td>\n",
       "      <td>Takeoff</td>\n",
       "      <td>Probable Cause</td>\n",
       "    </tr>\n",
       "    <tr>\n",
       "      <th>...</th>\n",
       "      <td>...</td>\n",
       "      <td>...</td>\n",
       "      <td>...</td>\n",
       "      <td>...</td>\n",
       "      <td>...</td>\n",
       "      <td>...</td>\n",
       "      <td>...</td>\n",
       "      <td>...</td>\n",
       "      <td>...</td>\n",
       "      <td>...</td>\n",
       "      <td>...</td>\n",
       "      <td>...</td>\n",
       "      <td>...</td>\n",
       "      <td>...</td>\n",
       "      <td>...</td>\n",
       "      <td>...</td>\n",
       "      <td>...</td>\n",
       "      <td>...</td>\n",
       "      <td>...</td>\n",
       "      <td>...</td>\n",
       "      <td>...</td>\n",
       "    </tr>\n",
       "    <tr>\n",
       "      <th>87906</th>\n",
       "      <td>20210803103617</td>\n",
       "      <td>Incident</td>\n",
       "      <td>DCA21WA191</td>\n",
       "      <td>2021-07-30</td>\n",
       "      <td>Santa Cruz de la Sierra, Saint Barthelemy</td>\n",
       "      <td>Saint Barthelemy</td>\n",
       "      <td>Non-Fatal</td>\n",
       "      <td>unknown</td>\n",
       "      <td>Airplane</td>\n",
       "      <td>CP-2889</td>\n",
       "      <td>...</td>\n",
       "      <td>4.0</td>\n",
       "      <td>unknown</td>\n",
       "      <td>unknown</td>\n",
       "      <td>0.0</td>\n",
       "      <td>0.0</td>\n",
       "      <td>0.0</td>\n",
       "      <td>97.0</td>\n",
       "      <td>unknown</td>\n",
       "      <td>unknown</td>\n",
       "      <td>Probable Cause</td>\n",
       "    </tr>\n",
       "    <tr>\n",
       "      <th>88484</th>\n",
       "      <td>20211206104355</td>\n",
       "      <td>Accident</td>\n",
       "      <td>DCA22LA038</td>\n",
       "      <td>2021-11-29</td>\n",
       "      <td>Miami, FL</td>\n",
       "      <td>United States</td>\n",
       "      <td>Non-Fatal</td>\n",
       "      <td>Substantial</td>\n",
       "      <td>Airplane</td>\n",
       "      <td>N705CK</td>\n",
       "      <td>...</td>\n",
       "      <td>4.0</td>\n",
       "      <td>unknown</td>\n",
       "      <td>unknown</td>\n",
       "      <td>0.0</td>\n",
       "      <td>0.0</td>\n",
       "      <td>0.0</td>\n",
       "      <td>3.0</td>\n",
       "      <td>unknown</td>\n",
       "      <td>unknown</td>\n",
       "      <td>Probable Cause</td>\n",
       "    </tr>\n",
       "    <tr>\n",
       "      <th>88714</th>\n",
       "      <td>20220217104654</td>\n",
       "      <td>Accident</td>\n",
       "      <td>DCA22FA082</td>\n",
       "      <td>2022-02-16</td>\n",
       "      <td>Jolon, CA</td>\n",
       "      <td>United States</td>\n",
       "      <td>Non-Fatal</td>\n",
       "      <td>Substantial</td>\n",
       "      <td>Airplane</td>\n",
       "      <td>N542AJ</td>\n",
       "      <td>...</td>\n",
       "      <td>6.0</td>\n",
       "      <td>unknown</td>\n",
       "      <td>Flight Test</td>\n",
       "      <td>0.0</td>\n",
       "      <td>0.0</td>\n",
       "      <td>0.0</td>\n",
       "      <td>0.0</td>\n",
       "      <td>unknown</td>\n",
       "      <td>unknown</td>\n",
       "      <td>Probable Cause</td>\n",
       "    </tr>\n",
       "    <tr>\n",
       "      <th>89165</th>\n",
       "      <td>20220520105109</td>\n",
       "      <td>Accident</td>\n",
       "      <td>WPR22LA183</td>\n",
       "      <td>2022-05-14</td>\n",
       "      <td>Winters, CA</td>\n",
       "      <td>United States</td>\n",
       "      <td>Non-Fatal</td>\n",
       "      <td>Substantial</td>\n",
       "      <td>Airplane</td>\n",
       "      <td>N605PK</td>\n",
       "      <td>...</td>\n",
       "      <td>4.0</td>\n",
       "      <td>Electric</td>\n",
       "      <td>Personal</td>\n",
       "      <td>0.0</td>\n",
       "      <td>0.0</td>\n",
       "      <td>0.0</td>\n",
       "      <td>0.0</td>\n",
       "      <td>VMC</td>\n",
       "      <td>unknown</td>\n",
       "      <td>Delamination of the uncrewed aircraft systems...</td>\n",
       "    </tr>\n",
       "    <tr>\n",
       "      <th>90236</th>\n",
       "      <td>20221112106276</td>\n",
       "      <td>Accident</td>\n",
       "      <td>CEN23MA034</td>\n",
       "      <td>2022-11-12</td>\n",
       "      <td>Dallas, TX</td>\n",
       "      <td>United States</td>\n",
       "      <td>Fatal</td>\n",
       "      <td>Destroyed</td>\n",
       "      <td>Airplane</td>\n",
       "      <td>N7227C</td>\n",
       "      <td>...</td>\n",
       "      <td>4.0</td>\n",
       "      <td>unknown</td>\n",
       "      <td>ASHO</td>\n",
       "      <td>6.0</td>\n",
       "      <td>0.0</td>\n",
       "      <td>0.0</td>\n",
       "      <td>0.0</td>\n",
       "      <td>VMC</td>\n",
       "      <td>unknown</td>\n",
       "      <td>Probable Cause</td>\n",
       "    </tr>\n",
       "  </tbody>\n",
       "</table>\n",
       "<p>416 rows × 23 columns</p>\n",
       "</div>"
      ],
      "text/plain": [
       "             Event_Id Investigation_Type Accident_Number  Event_Date  \\\n",
       "129    20020917X02397           Accident      MIA82FA034  1982-01-19   \n",
       "506    20020917X02477           Incident      MKC82IA042  1982-03-08   \n",
       "558    20020917X02154           Accident     LAX82AA106A  1982-03-13   \n",
       "669    20020917X02279           Accident      LAX82FA119  1982-03-24   \n",
       "1121   20020917X02909           Accident      CHI82DA156  1982-05-08   \n",
       "...               ...                ...             ...         ...   \n",
       "87906  20210803103617           Incident      DCA21WA191  2021-07-30   \n",
       "88484  20211206104355           Accident      DCA22LA038  2021-11-29   \n",
       "88714  20220217104654           Accident      DCA22FA082  2022-02-16   \n",
       "89165  20220520105109           Accident      WPR22LA183  2022-05-14   \n",
       "90236  20221112106276           Accident      CEN23MA034  2022-11-12   \n",
       "\n",
       "                                        Location           Country  \\\n",
       "129                                    MIAMI, FL     United States   \n",
       "506                                LAS VEGAS, NV     United States   \n",
       "558                                 GLENDALE, AZ     United States   \n",
       "669                                   MARANA, AZ     United States   \n",
       "1121                                    YALE, MI     United States   \n",
       "...                                          ...               ...   \n",
       "87906  Santa Cruz de la Sierra, Saint Barthelemy  Saint Barthelemy   \n",
       "88484                                  Miami, FL     United States   \n",
       "88714                                  Jolon, CA     United States   \n",
       "89165                                Winters, CA     United States   \n",
       "90236                                 Dallas, TX     United States   \n",
       "\n",
       "      Injury_Severity Aircraft_damage Aircraft_Category Registration_Number  \\\n",
       "129         Non-Fatal     Substantial          Airplane               HCBHS   \n",
       "506          Incident         unknown          Airplane               N6728   \n",
       "558             Fatal       Destroyed          Airplane               KC135   \n",
       "669         Non-Fatal     Substantial          Airplane              N752TA   \n",
       "1121        Non-Fatal     Substantial          Airplane              N15585   \n",
       "...               ...             ...               ...                 ...   \n",
       "87906       Non-Fatal         unknown          Airplane             CP-2889   \n",
       "88484       Non-Fatal     Substantial          Airplane              N705CK   \n",
       "88714       Non-Fatal     Substantial          Airplane              N542AJ   \n",
       "89165       Non-Fatal     Substantial          Airplane              N605PK   \n",
       "90236           Fatal       Destroyed          Airplane              N7227C   \n",
       "\n",
       "       ... Number_of_Engines    Engine_Type Purpose_of_flight  \\\n",
       "129    ...               4.0     Turbo Prop           Unknown   \n",
       "506    ...               4.0      Turbo Fan           Unknown   \n",
       "558    ...               4.0      Turbo Jet           Unknown   \n",
       "669    ...               4.0      Turbo Jet             Ferry   \n",
       "1121   ...               4.0  Reciprocating          Personal   \n",
       "...    ...               ...            ...               ...   \n",
       "87906  ...               4.0        unknown           unknown   \n",
       "88484  ...               4.0        unknown           unknown   \n",
       "88714  ...               6.0        unknown       Flight Test   \n",
       "89165  ...               4.0       Electric          Personal   \n",
       "90236  ...               4.0        unknown              ASHO   \n",
       "\n",
       "       Total_Fatal_Injuries Total_Serious_Injuries Total_Minor_Injuries  \\\n",
       "129                     0.0                    0.0                  0.0   \n",
       "506                     1.0                    0.0                  0.0   \n",
       "558                     6.0                    0.0                  0.0   \n",
       "669                     0.0                    0.0                  0.0   \n",
       "1121                    0.0                    0.0                  0.0   \n",
       "...                     ...                    ...                  ...   \n",
       "87906                   0.0                    0.0                  0.0   \n",
       "88484                   0.0                    0.0                  0.0   \n",
       "88714                   0.0                    0.0                  0.0   \n",
       "89165                   0.0                    0.0                  0.0   \n",
       "90236                   6.0                    0.0                  0.0   \n",
       "\n",
       "       Total_Uninjured  Weather_Condition  Broad_phase_of_flight  \\\n",
       "129                6.0                VMC                Landing   \n",
       "506                0.0                VMC               Standing   \n",
       "558                0.0                UNK               Approach   \n",
       "669                7.0                VMC                Landing   \n",
       "1121               1.0                VMC                Takeoff   \n",
       "...                ...                ...                    ...   \n",
       "87906             97.0            unknown                unknown   \n",
       "88484              3.0            unknown                unknown   \n",
       "88714              0.0            unknown                unknown   \n",
       "89165              0.0                VMC                unknown   \n",
       "90236              0.0                VMC                unknown   \n",
       "\n",
       "                                           Report_Status  \n",
       "129                                       Probable Cause  \n",
       "506                                       Probable Cause  \n",
       "558                                       Probable Cause  \n",
       "669                                       Probable Cause  \n",
       "1121                                      Probable Cause  \n",
       "...                                                  ...  \n",
       "87906                                     Probable Cause  \n",
       "88484                                     Probable Cause  \n",
       "88714                                     Probable Cause  \n",
       "89165  Delamination of the uncrewed aircraft systems...  \n",
       "90236                                     Probable Cause  \n",
       "\n",
       "[416 rows x 23 columns]"
      ]
     },
     "execution_count": 139,
     "metadata": {},
     "output_type": "execute_result"
    }
   ],
   "source": [
    "#find outliers\n",
    "df.loc[(df['Number_of_Engines'] > upper_limit) | (df['Number_of_Engines'] < lower_limit)]"
   ]
  },
  {
   "cell_type": "code",
   "execution_count": 140,
   "metadata": {},
   "outputs": [
    {
     "name": "stdout",
     "output_type": "stream",
     "text": [
      "before removing outliers:  87889\n",
      "after removing outliers:  87473\n",
      "outliers: 416\n"
     ]
    }
   ],
   "source": [
    "#trimming the outlier\n",
    "outlier_remove_df = df.loc[(df['Number_of_Engines'] <= upper_limit) & (df['Number_of_Engines'] >= lower_limit)]\n",
    "print('before removing outliers: ', len(df))\n",
    "print('after removing outliers: ', len(outlier_remove_df))\n",
    "print('outliers:', len(df) - len(outlier_remove_df))"
   ]
  },
  {
   "cell_type": "code",
   "execution_count": 141,
   "metadata": {},
   "outputs": [
    {
     "data": {
      "text/plain": [
       "<Axes: >"
      ]
     },
     "execution_count": 141,
     "metadata": {},
     "output_type": "execute_result"
    },
    {
     "data": {
      "image/png": "[encoded data removed]",
      "text/plain": [
       "<Figure size 640x480 with 1 Axes>"
      ]
     },
     "metadata": {},
     "output_type": "display_data"
    }
   ],
   "source": [
    "#graph before removing outliers\n",
    "sns.boxplot(df['Number_of_Engines'])"
   ]
  },
  {
   "cell_type": "code",
   "execution_count": 142,
   "metadata": {},
   "outputs": [
    {
     "data": {
      "text/plain": [
       "<Axes: >"
      ]
     },
     "execution_count": 142,
     "metadata": {},
     "output_type": "execute_result"
    },
    {
     "data": {
      "image/png": "[encoded data removed]",
      "text/plain": [
       "<Figure size 640x480 with 1 Axes>"
      ]
     },
     "metadata": {},
     "output_type": "display_data"
    }
   ],
   "source": [
    "#graph after removing outliers\n",
    "sns.boxplot(outlier_remove_df['Number_of_Engines'])"
   ]
  },
  {
   "cell_type": "code",
   "execution_count": 143,
   "metadata": {},
   "outputs": [
    {
     "name": "stdout",
     "output_type": "stream",
     "text": [
      "upper limit: 147.0\n",
      "lower limit: 0.0\n"
     ]
    }
   ],
   "source": [
    "upper_limit = df['Total_Uninjured'].quantile(0.99)\n",
    "lower_limit = df['Total_Uninjured'].quantile(0.01)\n",
    "print('upper limit:', upper_limit)\n",
    "print('lower limit:', lower_limit)"
   ]
  },
  {
   "cell_type": "code",
   "execution_count": 144,
   "metadata": {},
   "outputs": [
    {
     "data": {
      "text/html": [
       "<div>\n",
       "<style scoped>\n",
       "    .dataframe tbody tr th:only-of-type {\n",
       "        vertical-align: middle;\n",
       "    }\n",
       "\n",
       "    .dataframe tbody tr th {\n",
       "        vertical-align: top;\n",
       "    }\n",
       "\n",
       "    .dataframe thead th {\n",
       "        text-align: right;\n",
       "    }\n",
       "</style>\n",
       "<table border=\"1\" class=\"dataframe\">\n",
       "  <thead>\n",
       "    <tr style=\"text-align: right;\">\n",
       "      <th></th>\n",
       "      <th>Event_Id</th>\n",
       "      <th>Investigation_Type</th>\n",
       "      <th>Accident_Number</th>\n",
       "      <th>Event_Date</th>\n",
       "      <th>Location</th>\n",
       "      <th>Country</th>\n",
       "      <th>Injury_Severity</th>\n",
       "      <th>Aircraft_damage</th>\n",
       "      <th>Aircraft_Category</th>\n",
       "      <th>Registration_Number</th>\n",
       "      <th>...</th>\n",
       "      <th>Number_of_Engines</th>\n",
       "      <th>Engine_Type</th>\n",
       "      <th>Purpose_of_flight</th>\n",
       "      <th>Total_Fatal_Injuries</th>\n",
       "      <th>Total_Serious_Injuries</th>\n",
       "      <th>Total_Minor_Injuries</th>\n",
       "      <th>Total_Uninjured</th>\n",
       "      <th>Weather_Condition</th>\n",
       "      <th>Broad_phase_of_flight</th>\n",
       "      <th>Report_Status</th>\n",
       "    </tr>\n",
       "  </thead>\n",
       "  <tbody>\n",
       "    <tr>\n",
       "      <th>79</th>\n",
       "      <td>20020917X01897</td>\n",
       "      <td>Incident</td>\n",
       "      <td>CHI82IA026</td>\n",
       "      <td>1982-01-12</td>\n",
       "      <td>CHICAGO, IL</td>\n",
       "      <td>United States</td>\n",
       "      <td>Incident</td>\n",
       "      <td>unknown</td>\n",
       "      <td>Airplane</td>\n",
       "      <td>N31031</td>\n",
       "      <td>...</td>\n",
       "      <td>3.0</td>\n",
       "      <td>Turbo Fan</td>\n",
       "      <td>Unknown</td>\n",
       "      <td>0.0</td>\n",
       "      <td>0.0</td>\n",
       "      <td>0.0</td>\n",
       "      <td>149.0</td>\n",
       "      <td>UNK</td>\n",
       "      <td>Cruise</td>\n",
       "      <td>Probable Cause</td>\n",
       "    </tr>\n",
       "    <tr>\n",
       "      <th>155</th>\n",
       "      <td>20020917X01909</td>\n",
       "      <td>Accident</td>\n",
       "      <td>DCA82AA013</td>\n",
       "      <td>1982-01-23</td>\n",
       "      <td>BOSTON, MA</td>\n",
       "      <td>United States</td>\n",
       "      <td>Fatal</td>\n",
       "      <td>Destroyed</td>\n",
       "      <td>Airplane</td>\n",
       "      <td>N113WA</td>\n",
       "      <td>...</td>\n",
       "      <td>3.0</td>\n",
       "      <td>Turbo Fan</td>\n",
       "      <td>Unknown</td>\n",
       "      <td>2.0</td>\n",
       "      <td>4.0</td>\n",
       "      <td>24.0</td>\n",
       "      <td>182.0</td>\n",
       "      <td>IMC</td>\n",
       "      <td>Landing</td>\n",
       "      <td>Probable Cause</td>\n",
       "    </tr>\n",
       "    <tr>\n",
       "      <th>230</th>\n",
       "      <td>20020917X01910</td>\n",
       "      <td>Accident</td>\n",
       "      <td>DCA82AA014</td>\n",
       "      <td>1982-02-03</td>\n",
       "      <td>PHILADELPHIA, PA</td>\n",
       "      <td>United States</td>\n",
       "      <td>Non-Fatal</td>\n",
       "      <td>Minor</td>\n",
       "      <td>Airplane</td>\n",
       "      <td>N1814U</td>\n",
       "      <td>...</td>\n",
       "      <td>3.0</td>\n",
       "      <td>Turbo Fan</td>\n",
       "      <td>Unknown</td>\n",
       "      <td>0.0</td>\n",
       "      <td>1.0</td>\n",
       "      <td>0.0</td>\n",
       "      <td>154.0</td>\n",
       "      <td>IMC</td>\n",
       "      <td>Takeoff</td>\n",
       "      <td>Probable Cause</td>\n",
       "    </tr>\n",
       "    <tr>\n",
       "      <th>908</th>\n",
       "      <td>20020917X02421</td>\n",
       "      <td>Incident</td>\n",
       "      <td>MIA82IA102</td>\n",
       "      <td>1982-04-20</td>\n",
       "      <td>MIAMI, FL</td>\n",
       "      <td>United States</td>\n",
       "      <td>Incident</td>\n",
       "      <td>Minor</td>\n",
       "      <td>Airplane</td>\n",
       "      <td>N333EA</td>\n",
       "      <td>...</td>\n",
       "      <td>3.0</td>\n",
       "      <td>Turbo Fan</td>\n",
       "      <td>Unknown</td>\n",
       "      <td>0.0</td>\n",
       "      <td>0.0</td>\n",
       "      <td>0.0</td>\n",
       "      <td>152.0</td>\n",
       "      <td>VMC</td>\n",
       "      <td>Landing</td>\n",
       "      <td>Probable Cause</td>\n",
       "    </tr>\n",
       "    <tr>\n",
       "      <th>2456</th>\n",
       "      <td>20020917X03729</td>\n",
       "      <td>Incident</td>\n",
       "      <td>LAX82IA309</td>\n",
       "      <td>1982-08-21</td>\n",
       "      <td>HONOLULU, HI</td>\n",
       "      <td>United States</td>\n",
       "      <td>Incident</td>\n",
       "      <td>Minor</td>\n",
       "      <td>Airplane</td>\n",
       "      <td>N104WA</td>\n",
       "      <td>...</td>\n",
       "      <td>3.0</td>\n",
       "      <td>Turbo Fan</td>\n",
       "      <td>Unknown</td>\n",
       "      <td>0.0</td>\n",
       "      <td>0.0</td>\n",
       "      <td>0.0</td>\n",
       "      <td>393.0</td>\n",
       "      <td>VMC</td>\n",
       "      <td>Takeoff</td>\n",
       "      <td>Probable Cause</td>\n",
       "    </tr>\n",
       "    <tr>\n",
       "      <th>...</th>\n",
       "      <td>...</td>\n",
       "      <td>...</td>\n",
       "      <td>...</td>\n",
       "      <td>...</td>\n",
       "      <td>...</td>\n",
       "      <td>...</td>\n",
       "      <td>...</td>\n",
       "      <td>...</td>\n",
       "      <td>...</td>\n",
       "      <td>...</td>\n",
       "      <td>...</td>\n",
       "      <td>...</td>\n",
       "      <td>...</td>\n",
       "      <td>...</td>\n",
       "      <td>...</td>\n",
       "      <td>...</td>\n",
       "      <td>...</td>\n",
       "      <td>...</td>\n",
       "      <td>...</td>\n",
       "      <td>...</td>\n",
       "      <td>...</td>\n",
       "    </tr>\n",
       "    <tr>\n",
       "      <th>90185</th>\n",
       "      <td>20221028106216</td>\n",
       "      <td>Incident</td>\n",
       "      <td>DCA23WA037</td>\n",
       "      <td>2022-10-27</td>\n",
       "      <td>Buenos Aires,</td>\n",
       "      <td>Argentina</td>\n",
       "      <td>Non-Fatal</td>\n",
       "      <td>unknown</td>\n",
       "      <td>unknown</td>\n",
       "      <td>N765AN</td>\n",
       "      <td>...</td>\n",
       "      <td>1.0</td>\n",
       "      <td>unknown</td>\n",
       "      <td>unknown</td>\n",
       "      <td>0.0</td>\n",
       "      <td>0.0</td>\n",
       "      <td>0.0</td>\n",
       "      <td>268.0</td>\n",
       "      <td>unknown</td>\n",
       "      <td>unknown</td>\n",
       "      <td>Probable Cause</td>\n",
       "    </tr>\n",
       "    <tr>\n",
       "      <th>90201</th>\n",
       "      <td>20221104106249</td>\n",
       "      <td>Incident</td>\n",
       "      <td>DCA23WA044</td>\n",
       "      <td>2022-11-02</td>\n",
       "      <td>LIberia,</td>\n",
       "      <td>Costa Rica</td>\n",
       "      <td>Non-Fatal</td>\n",
       "      <td>unknown</td>\n",
       "      <td>unknown</td>\n",
       "      <td>N6714Q</td>\n",
       "      <td>...</td>\n",
       "      <td>1.0</td>\n",
       "      <td>unknown</td>\n",
       "      <td>unknown</td>\n",
       "      <td>0.0</td>\n",
       "      <td>0.0</td>\n",
       "      <td>0.0</td>\n",
       "      <td>201.0</td>\n",
       "      <td>unknown</td>\n",
       "      <td>unknown</td>\n",
       "      <td>Probable Cause</td>\n",
       "    </tr>\n",
       "    <tr>\n",
       "      <th>90259</th>\n",
       "      <td>20221121106329</td>\n",
       "      <td>Accident</td>\n",
       "      <td>DCA23LA067</td>\n",
       "      <td>2022-11-19</td>\n",
       "      <td>Omaha, NE</td>\n",
       "      <td>United States</td>\n",
       "      <td>Non-Fatal</td>\n",
       "      <td>unknown</td>\n",
       "      <td>unknown</td>\n",
       "      <td>N330NW</td>\n",
       "      <td>...</td>\n",
       "      <td>1.0</td>\n",
       "      <td>unknown</td>\n",
       "      <td>unknown</td>\n",
       "      <td>0.0</td>\n",
       "      <td>0.0</td>\n",
       "      <td>0.0</td>\n",
       "      <td>153.0</td>\n",
       "      <td>unknown</td>\n",
       "      <td>unknown</td>\n",
       "      <td>Probable Cause</td>\n",
       "    </tr>\n",
       "    <tr>\n",
       "      <th>90285</th>\n",
       "      <td>20221222106484</td>\n",
       "      <td>Incident</td>\n",
       "      <td>DCA23WA099</td>\n",
       "      <td>2022-11-26</td>\n",
       "      <td>Bangkok,</td>\n",
       "      <td>Thailand</td>\n",
       "      <td>Non-Fatal</td>\n",
       "      <td>unknown</td>\n",
       "      <td>unknown</td>\n",
       "      <td>HS-DBO</td>\n",
       "      <td>...</td>\n",
       "      <td>1.0</td>\n",
       "      <td>unknown</td>\n",
       "      <td>unknown</td>\n",
       "      <td>0.0</td>\n",
       "      <td>0.0</td>\n",
       "      <td>0.0</td>\n",
       "      <td>186.0</td>\n",
       "      <td>unknown</td>\n",
       "      <td>unknown</td>\n",
       "      <td>Probable Cause</td>\n",
       "    </tr>\n",
       "    <tr>\n",
       "      <th>90314</th>\n",
       "      <td>20221212106439</td>\n",
       "      <td>Accident</td>\n",
       "      <td>DCA23LA093</td>\n",
       "      <td>2022-12-08</td>\n",
       "      <td>Newark, NJ</td>\n",
       "      <td>United States</td>\n",
       "      <td>Serious</td>\n",
       "      <td>unknown</td>\n",
       "      <td>unknown</td>\n",
       "      <td>N649UA</td>\n",
       "      <td>...</td>\n",
       "      <td>1.0</td>\n",
       "      <td>unknown</td>\n",
       "      <td>unknown</td>\n",
       "      <td>0.0</td>\n",
       "      <td>3.0</td>\n",
       "      <td>1.0</td>\n",
       "      <td>175.0</td>\n",
       "      <td>unknown</td>\n",
       "      <td>unknown</td>\n",
       "      <td>Probable Cause</td>\n",
       "    </tr>\n",
       "  </tbody>\n",
       "</table>\n",
       "<p>872 rows × 23 columns</p>\n",
       "</div>"
      ],
      "text/plain": [
       "             Event_Id Investigation_Type Accident_Number  Event_Date  \\\n",
       "79     20020917X01897           Incident      CHI82IA026  1982-01-12   \n",
       "155    20020917X01909           Accident      DCA82AA013  1982-01-23   \n",
       "230    20020917X01910           Accident      DCA82AA014  1982-02-03   \n",
       "908    20020917X02421           Incident      MIA82IA102  1982-04-20   \n",
       "2456   20020917X03729           Incident      LAX82IA309  1982-08-21   \n",
       "...               ...                ...             ...         ...   \n",
       "90185  20221028106216           Incident      DCA23WA037  2022-10-27   \n",
       "90201  20221104106249           Incident      DCA23WA044  2022-11-02   \n",
       "90259  20221121106329           Accident      DCA23LA067  2022-11-19   \n",
       "90285  20221222106484           Incident      DCA23WA099  2022-11-26   \n",
       "90314  20221212106439           Accident      DCA23LA093  2022-12-08   \n",
       "\n",
       "               Location        Country Injury_Severity Aircraft_damage  \\\n",
       "79          CHICAGO, IL  United States        Incident         unknown   \n",
       "155          BOSTON, MA  United States           Fatal       Destroyed   \n",
       "230    PHILADELPHIA, PA  United States       Non-Fatal           Minor   \n",
       "908           MIAMI, FL  United States        Incident           Minor   \n",
       "2456       HONOLULU, HI  United States        Incident           Minor   \n",
       "...                 ...            ...             ...             ...   \n",
       "90185    Buenos Aires,       Argentina       Non-Fatal         unknown   \n",
       "90201         LIberia,      Costa Rica       Non-Fatal         unknown   \n",
       "90259         Omaha, NE  United States       Non-Fatal         unknown   \n",
       "90285         Bangkok,        Thailand       Non-Fatal         unknown   \n",
       "90314        Newark, NJ  United States         Serious         unknown   \n",
       "\n",
       "      Aircraft_Category Registration_Number  ... Number_of_Engines  \\\n",
       "79             Airplane              N31031  ...               3.0   \n",
       "155            Airplane              N113WA  ...               3.0   \n",
       "230            Airplane              N1814U  ...               3.0   \n",
       "908            Airplane              N333EA  ...               3.0   \n",
       "2456           Airplane              N104WA  ...               3.0   \n",
       "...                 ...                 ...  ...               ...   \n",
       "90185           unknown              N765AN  ...               1.0   \n",
       "90201           unknown              N6714Q  ...               1.0   \n",
       "90259           unknown              N330NW  ...               1.0   \n",
       "90285           unknown              HS-DBO  ...               1.0   \n",
       "90314           unknown              N649UA  ...               1.0   \n",
       "\n",
       "      Engine_Type Purpose_of_flight  Total_Fatal_Injuries  \\\n",
       "79      Turbo Fan           Unknown                   0.0   \n",
       "155     Turbo Fan           Unknown                   2.0   \n",
       "230     Turbo Fan           Unknown                   0.0   \n",
       "908     Turbo Fan           Unknown                   0.0   \n",
       "2456    Turbo Fan           Unknown                   0.0   \n",
       "...           ...               ...                   ...   \n",
       "90185     unknown           unknown                   0.0   \n",
       "90201     unknown           unknown                   0.0   \n",
       "90259     unknown           unknown                   0.0   \n",
       "90285     unknown           unknown                   0.0   \n",
       "90314     unknown           unknown                   0.0   \n",
       "\n",
       "      Total_Serious_Injuries Total_Minor_Injuries  Total_Uninjured  \\\n",
       "79                       0.0                  0.0            149.0   \n",
       "155                      4.0                 24.0            182.0   \n",
       "230                      1.0                  0.0            154.0   \n",
       "908                      0.0                  0.0            152.0   \n",
       "2456                     0.0                  0.0            393.0   \n",
       "...                      ...                  ...              ...   \n",
       "90185                    0.0                  0.0            268.0   \n",
       "90201                    0.0                  0.0            201.0   \n",
       "90259                    0.0                  0.0            153.0   \n",
       "90285                    0.0                  0.0            186.0   \n",
       "90314                    3.0                  1.0            175.0   \n",
       "\n",
       "       Weather_Condition  Broad_phase_of_flight   Report_Status  \n",
       "79                   UNK                 Cruise  Probable Cause  \n",
       "155                  IMC                Landing  Probable Cause  \n",
       "230                  IMC                Takeoff  Probable Cause  \n",
       "908                  VMC                Landing  Probable Cause  \n",
       "2456                 VMC                Takeoff  Probable Cause  \n",
       "...                  ...                    ...             ...  \n",
       "90185            unknown                unknown  Probable Cause  \n",
       "90201            unknown                unknown  Probable Cause  \n",
       "90259            unknown                unknown  Probable Cause  \n",
       "90285            unknown                unknown  Probable Cause  \n",
       "90314            unknown                unknown  Probable Cause  \n",
       "\n",
       "[872 rows x 23 columns]"
      ]
     },
     "execution_count": 144,
     "metadata": {},
     "output_type": "execute_result"
    }
   ],
   "source": [
    "#find outliers\n",
    "df.loc[(df['Total_Uninjured'] > upper_limit) | (df['Total_Uninjured'] < lower_limit)]"
   ]
  },
  {
   "cell_type": "code",
   "execution_count": 145,
   "metadata": {},
   "outputs": [
    {
     "name": "stdout",
     "output_type": "stream",
     "text": [
      "before removing outliers:  87889\n",
      "after removing outliers:  87017\n",
      "outliers: 872\n"
     ]
    }
   ],
   "source": [
    "#trimming the outlier\n",
    "outlier_remove_df = df.loc[(df['Total_Uninjured'] <= upper_limit) & (df['Total_Uninjured'] >= lower_limit)]\n",
    "print('before removing outliers: ', len(df))\n",
    "print('after removing outliers: ', len(outlier_remove_df))\n",
    "print('outliers:', len(df) - len(outlier_remove_df))\n"
   ]
  },
  {
   "cell_type": "code",
   "execution_count": 146,
   "metadata": {},
   "outputs": [
    {
     "data": {
      "text/plain": [
       "<Axes: >"
      ]
     },
     "execution_count": 146,
     "metadata": {},
     "output_type": "execute_result"
    },
    {
     "data": {
      "image/png": "[encoded data removed]",
      "text/plain": [
       "<Figure size 640x480 with 1 Axes>"
      ]
     },
     "metadata": {},
     "output_type": "display_data"
    }
   ],
   "source": [
    "#graph before removing outliers\n",
    "sns.boxplot(df['Total_Uninjured'])"
   ]
  },
  {
   "cell_type": "code",
   "execution_count": 147,
   "metadata": {},
   "outputs": [
    {
     "data": {
      "text/plain": [
       "<Axes: >"
      ]
     },
     "execution_count": 147,
     "metadata": {},
     "output_type": "execute_result"
    },
    {
     "data": {
      "image/png": "[encoded data removed]",
      "text/plain": [
       "<Figure size 640x480 with 1 Axes>"
      ]
     },
     "metadata": {},
     "output_type": "display_data"
    }
   ],
   "source": [
    "#graph after removing outliers\n",
    "sns.boxplot(outlier_remove_df['Total_Uninjured'])"
   ]
  },
  {
   "cell_type": "code",
   "execution_count": 148,
   "metadata": {},
   "outputs": [
    {
     "name": "stdout",
     "output_type": "stream",
     "text": [
      "upper limit: 3.0\n",
      "lower limit: 0.0\n"
     ]
    }
   ],
   "source": [
    "#Handlinng outliers in Total.Minor.Injuries\n",
    "upper_limit = df['Total_Minor_Injuries'].quantile(0.99)\n",
    "lower_limit = df['Total_Minor_Injuries'].quantile(0.01)\n",
    "print('upper limit:', upper_limit)\n",
    "print('lower limit:', lower_limit)"
   ]
  },
  {
   "cell_type": "code",
   "execution_count": 149,
   "metadata": {},
   "outputs": [
    {
     "data": {
      "text/html": [
       "<div>\n",
       "<style scoped>\n",
       "    .dataframe tbody tr th:only-of-type {\n",
       "        vertical-align: middle;\n",
       "    }\n",
       "\n",
       "    .dataframe tbody tr th {\n",
       "        vertical-align: top;\n",
       "    }\n",
       "\n",
       "    .dataframe thead th {\n",
       "        text-align: right;\n",
       "    }\n",
       "</style>\n",
       "<table border=\"1\" class=\"dataframe\">\n",
       "  <thead>\n",
       "    <tr style=\"text-align: right;\">\n",
       "      <th></th>\n",
       "      <th>Event_Id</th>\n",
       "      <th>Investigation_Type</th>\n",
       "      <th>Accident_Number</th>\n",
       "      <th>Event_Date</th>\n",
       "      <th>Location</th>\n",
       "      <th>Country</th>\n",
       "      <th>Injury_Severity</th>\n",
       "      <th>Aircraft_damage</th>\n",
       "      <th>Aircraft_Category</th>\n",
       "      <th>Registration_Number</th>\n",
       "      <th>...</th>\n",
       "      <th>Number_of_Engines</th>\n",
       "      <th>Engine_Type</th>\n",
       "      <th>Purpose_of_flight</th>\n",
       "      <th>Total_Fatal_Injuries</th>\n",
       "      <th>Total_Serious_Injuries</th>\n",
       "      <th>Total_Minor_Injuries</th>\n",
       "      <th>Total_Uninjured</th>\n",
       "      <th>Weather_Condition</th>\n",
       "      <th>Broad_phase_of_flight</th>\n",
       "      <th>Report_Status</th>\n",
       "    </tr>\n",
       "  </thead>\n",
       "  <tbody>\n",
       "    <tr>\n",
       "      <th>72</th>\n",
       "      <td>20020917X02305</td>\n",
       "      <td>Accident</td>\n",
       "      <td>LAX82FUQ07</td>\n",
       "      <td>1982-01-10</td>\n",
       "      <td>MOJAVE, CA</td>\n",
       "      <td>United States</td>\n",
       "      <td>Non-Fatal</td>\n",
       "      <td>Substantial</td>\n",
       "      <td>Airplane</td>\n",
       "      <td>N2644Q</td>\n",
       "      <td>...</td>\n",
       "      <td>1.0</td>\n",
       "      <td>Reciprocating</td>\n",
       "      <td>Personal</td>\n",
       "      <td>0.0</td>\n",
       "      <td>0.0</td>\n",
       "      <td>4.0</td>\n",
       "      <td>0.0</td>\n",
       "      <td>VMC</td>\n",
       "      <td>Landing</td>\n",
       "      <td>Probable Cause</td>\n",
       "    </tr>\n",
       "    <tr>\n",
       "      <th>153</th>\n",
       "      <td>20020917X02259</td>\n",
       "      <td>Accident</td>\n",
       "      <td>LAX82FA049A</td>\n",
       "      <td>1982-01-23</td>\n",
       "      <td>VICTORVILLE, CA</td>\n",
       "      <td>United States</td>\n",
       "      <td>Fatal</td>\n",
       "      <td>Destroyed</td>\n",
       "      <td>Airplane</td>\n",
       "      <td>N7860V</td>\n",
       "      <td>...</td>\n",
       "      <td>1.0</td>\n",
       "      <td>Reciprocating</td>\n",
       "      <td>Personal</td>\n",
       "      <td>2.0</td>\n",
       "      <td>0.0</td>\n",
       "      <td>4.0</td>\n",
       "      <td>0.0</td>\n",
       "      <td>VMC</td>\n",
       "      <td>Unknown</td>\n",
       "      <td>Probable Cause</td>\n",
       "    </tr>\n",
       "    <tr>\n",
       "      <th>155</th>\n",
       "      <td>20020917X01909</td>\n",
       "      <td>Accident</td>\n",
       "      <td>DCA82AA013</td>\n",
       "      <td>1982-01-23</td>\n",
       "      <td>BOSTON, MA</td>\n",
       "      <td>United States</td>\n",
       "      <td>Fatal</td>\n",
       "      <td>Destroyed</td>\n",
       "      <td>Airplane</td>\n",
       "      <td>N113WA</td>\n",
       "      <td>...</td>\n",
       "      <td>3.0</td>\n",
       "      <td>Turbo Fan</td>\n",
       "      <td>Unknown</td>\n",
       "      <td>2.0</td>\n",
       "      <td>4.0</td>\n",
       "      <td>24.0</td>\n",
       "      <td>182.0</td>\n",
       "      <td>IMC</td>\n",
       "      <td>Landing</td>\n",
       "      <td>Probable Cause</td>\n",
       "    </tr>\n",
       "    <tr>\n",
       "      <th>160</th>\n",
       "      <td>20020917X02259</td>\n",
       "      <td>Accident</td>\n",
       "      <td>LAX82FA049B</td>\n",
       "      <td>1982-01-23</td>\n",
       "      <td>VICTORVILLE, CA</td>\n",
       "      <td>United States</td>\n",
       "      <td>Fatal</td>\n",
       "      <td>Substantial</td>\n",
       "      <td>Airplane</td>\n",
       "      <td>N32380</td>\n",
       "      <td>...</td>\n",
       "      <td>1.0</td>\n",
       "      <td>Reciprocating</td>\n",
       "      <td>Personal</td>\n",
       "      <td>2.0</td>\n",
       "      <td>0.0</td>\n",
       "      <td>4.0</td>\n",
       "      <td>0.0</td>\n",
       "      <td>VMC</td>\n",
       "      <td>Cruise</td>\n",
       "      <td>Probable Cause</td>\n",
       "    </tr>\n",
       "    <tr>\n",
       "      <th>229</th>\n",
       "      <td>20020917X01923</td>\n",
       "      <td>Accident</td>\n",
       "      <td>DEN82DA029</td>\n",
       "      <td>1982-02-03</td>\n",
       "      <td>HAYDEN, CO</td>\n",
       "      <td>United States</td>\n",
       "      <td>Non-Fatal</td>\n",
       "      <td>Destroyed</td>\n",
       "      <td>Airplane</td>\n",
       "      <td>N149JA</td>\n",
       "      <td>...</td>\n",
       "      <td>2.0</td>\n",
       "      <td>Turbo Prop</td>\n",
       "      <td>Business</td>\n",
       "      <td>0.0</td>\n",
       "      <td>0.0</td>\n",
       "      <td>6.0</td>\n",
       "      <td>0.0</td>\n",
       "      <td>IMC</td>\n",
       "      <td>Landing</td>\n",
       "      <td>Probable Cause</td>\n",
       "    </tr>\n",
       "    <tr>\n",
       "      <th>...</th>\n",
       "      <td>...</td>\n",
       "      <td>...</td>\n",
       "      <td>...</td>\n",
       "      <td>...</td>\n",
       "      <td>...</td>\n",
       "      <td>...</td>\n",
       "      <td>...</td>\n",
       "      <td>...</td>\n",
       "      <td>...</td>\n",
       "      <td>...</td>\n",
       "      <td>...</td>\n",
       "      <td>...</td>\n",
       "      <td>...</td>\n",
       "      <td>...</td>\n",
       "      <td>...</td>\n",
       "      <td>...</td>\n",
       "      <td>...</td>\n",
       "      <td>...</td>\n",
       "      <td>...</td>\n",
       "      <td>...</td>\n",
       "      <td>...</td>\n",
       "    </tr>\n",
       "    <tr>\n",
       "      <th>88863</th>\n",
       "      <td>20220320104802</td>\n",
       "      <td>Accident</td>\n",
       "      <td>WPR22LA125</td>\n",
       "      <td>2022-03-20</td>\n",
       "      <td>Azusa, CA</td>\n",
       "      <td>United States</td>\n",
       "      <td>Serious</td>\n",
       "      <td>Substantial</td>\n",
       "      <td>Helicopter</td>\n",
       "      <td>N950SG</td>\n",
       "      <td>...</td>\n",
       "      <td>2.0</td>\n",
       "      <td>Turbo Shaft</td>\n",
       "      <td>Other Work Use</td>\n",
       "      <td>0.0</td>\n",
       "      <td>2.0</td>\n",
       "      <td>4.0</td>\n",
       "      <td>0.0</td>\n",
       "      <td>VMC</td>\n",
       "      <td>unknown</td>\n",
       "      <td>The pilot's failure to maintain clearance from...</td>\n",
       "    </tr>\n",
       "    <tr>\n",
       "      <th>89142</th>\n",
       "      <td>20220519105100</td>\n",
       "      <td>Accident</td>\n",
       "      <td>GAA22WA183</td>\n",
       "      <td>2022-05-11</td>\n",
       "      <td>BOITUVA, OF</td>\n",
       "      <td>Brazil</td>\n",
       "      <td>Fatal</td>\n",
       "      <td>Substantial</td>\n",
       "      <td>Airplane</td>\n",
       "      <td>PT-OQR</td>\n",
       "      <td>...</td>\n",
       "      <td>1.0</td>\n",
       "      <td>unknown</td>\n",
       "      <td>unknown</td>\n",
       "      <td>2.0</td>\n",
       "      <td>0.0</td>\n",
       "      <td>7.0</td>\n",
       "      <td>7.0</td>\n",
       "      <td>unknown</td>\n",
       "      <td>unknown</td>\n",
       "      <td>Probable Cause</td>\n",
       "    </tr>\n",
       "    <tr>\n",
       "      <th>89184</th>\n",
       "      <td>20220519105103</td>\n",
       "      <td>Accident</td>\n",
       "      <td>WPR22LA182</td>\n",
       "      <td>2022-05-19</td>\n",
       "      <td>Christmas Valley, OR</td>\n",
       "      <td>United States</td>\n",
       "      <td>Serious</td>\n",
       "      <td>Substantial</td>\n",
       "      <td>Helicopter</td>\n",
       "      <td>N851AL</td>\n",
       "      <td>...</td>\n",
       "      <td>1.0</td>\n",
       "      <td>Turbo Shaft</td>\n",
       "      <td>Business</td>\n",
       "      <td>0.0</td>\n",
       "      <td>0.0</td>\n",
       "      <td>4.0</td>\n",
       "      <td>0.0</td>\n",
       "      <td>VMC</td>\n",
       "      <td>unknown</td>\n",
       "      <td>The pilots inability to maintain control in h...</td>\n",
       "    </tr>\n",
       "    <tr>\n",
       "      <th>89216</th>\n",
       "      <td>20220525105132</td>\n",
       "      <td>Accident</td>\n",
       "      <td>ANC22LA035</td>\n",
       "      <td>2022-05-24</td>\n",
       "      <td>Yakutat, AK</td>\n",
       "      <td>United States</td>\n",
       "      <td>Serious</td>\n",
       "      <td>Substantial</td>\n",
       "      <td>Airplane</td>\n",
       "      <td>N703TH</td>\n",
       "      <td>...</td>\n",
       "      <td>1.0</td>\n",
       "      <td>unknown</td>\n",
       "      <td>unknown</td>\n",
       "      <td>0.0</td>\n",
       "      <td>0.0</td>\n",
       "      <td>4.0</td>\n",
       "      <td>0.0</td>\n",
       "      <td>VMC</td>\n",
       "      <td>unknown</td>\n",
       "      <td>Probable Cause</td>\n",
       "    </tr>\n",
       "    <tr>\n",
       "      <th>89425</th>\n",
       "      <td>20220812105725</td>\n",
       "      <td>Accident</td>\n",
       "      <td>GAA22WA247</td>\n",
       "      <td>2022-06-22</td>\n",
       "      <td>Papua,</td>\n",
       "      <td>Indonesia</td>\n",
       "      <td>Serious</td>\n",
       "      <td>Substantial</td>\n",
       "      <td>Airplane</td>\n",
       "      <td>PK-BVM</td>\n",
       "      <td>...</td>\n",
       "      <td>1.0</td>\n",
       "      <td>unknown</td>\n",
       "      <td>unknown</td>\n",
       "      <td>0.0</td>\n",
       "      <td>0.0</td>\n",
       "      <td>5.0</td>\n",
       "      <td>2.0</td>\n",
       "      <td>unknown</td>\n",
       "      <td>unknown</td>\n",
       "      <td>Probable Cause</td>\n",
       "    </tr>\n",
       "  </tbody>\n",
       "</table>\n",
       "<p>822 rows × 23 columns</p>\n",
       "</div>"
      ],
      "text/plain": [
       "             Event_Id Investigation_Type Accident_Number  Event_Date  \\\n",
       "72     20020917X02305           Accident      LAX82FUQ07  1982-01-10   \n",
       "153    20020917X02259           Accident     LAX82FA049A  1982-01-23   \n",
       "155    20020917X01909           Accident      DCA82AA013  1982-01-23   \n",
       "160    20020917X02259           Accident     LAX82FA049B  1982-01-23   \n",
       "229    20020917X01923           Accident      DEN82DA029  1982-02-03   \n",
       "...               ...                ...             ...         ...   \n",
       "88863  20220320104802           Accident      WPR22LA125  2022-03-20   \n",
       "89142  20220519105100           Accident      GAA22WA183  2022-05-11   \n",
       "89184  20220519105103           Accident      WPR22LA182  2022-05-19   \n",
       "89216  20220525105132           Accident      ANC22LA035  2022-05-24   \n",
       "89425  20220812105725           Accident      GAA22WA247  2022-06-22   \n",
       "\n",
       "                   Location        Country Injury_Severity Aircraft_damage  \\\n",
       "72               MOJAVE, CA  United States       Non-Fatal     Substantial   \n",
       "153         VICTORVILLE, CA  United States           Fatal       Destroyed   \n",
       "155              BOSTON, MA  United States           Fatal       Destroyed   \n",
       "160         VICTORVILLE, CA  United States           Fatal     Substantial   \n",
       "229              HAYDEN, CO  United States       Non-Fatal       Destroyed   \n",
       "...                     ...            ...             ...             ...   \n",
       "88863             Azusa, CA  United States         Serious     Substantial   \n",
       "89142           BOITUVA, OF         Brazil           Fatal     Substantial   \n",
       "89184  Christmas Valley, OR  United States         Serious     Substantial   \n",
       "89216           Yakutat, AK  United States         Serious     Substantial   \n",
       "89425               Papua,       Indonesia         Serious     Substantial   \n",
       "\n",
       "      Aircraft_Category Registration_Number  ... Number_of_Engines  \\\n",
       "72             Airplane              N2644Q  ...               1.0   \n",
       "153            Airplane              N7860V  ...               1.0   \n",
       "155            Airplane              N113WA  ...               3.0   \n",
       "160            Airplane              N32380  ...               1.0   \n",
       "229            Airplane              N149JA  ...               2.0   \n",
       "...                 ...                 ...  ...               ...   \n",
       "88863        Helicopter              N950SG  ...               2.0   \n",
       "89142          Airplane              PT-OQR  ...               1.0   \n",
       "89184        Helicopter              N851AL  ...               1.0   \n",
       "89216          Airplane              N703TH  ...               1.0   \n",
       "89425          Airplane              PK-BVM  ...               1.0   \n",
       "\n",
       "         Engine_Type Purpose_of_flight  Total_Fatal_Injuries  \\\n",
       "72     Reciprocating          Personal                   0.0   \n",
       "153    Reciprocating          Personal                   2.0   \n",
       "155        Turbo Fan           Unknown                   2.0   \n",
       "160    Reciprocating          Personal                   2.0   \n",
       "229       Turbo Prop          Business                   0.0   \n",
       "...              ...               ...                   ...   \n",
       "88863    Turbo Shaft    Other Work Use                   0.0   \n",
       "89142        unknown           unknown                   2.0   \n",
       "89184    Turbo Shaft          Business                   0.0   \n",
       "89216        unknown           unknown                   0.0   \n",
       "89425        unknown           unknown                   0.0   \n",
       "\n",
       "      Total_Serious_Injuries Total_Minor_Injuries  Total_Uninjured  \\\n",
       "72                       0.0                  4.0              0.0   \n",
       "153                      0.0                  4.0              0.0   \n",
       "155                      4.0                 24.0            182.0   \n",
       "160                      0.0                  4.0              0.0   \n",
       "229                      0.0                  6.0              0.0   \n",
       "...                      ...                  ...              ...   \n",
       "88863                    2.0                  4.0              0.0   \n",
       "89142                    0.0                  7.0              7.0   \n",
       "89184                    0.0                  4.0              0.0   \n",
       "89216                    0.0                  4.0              0.0   \n",
       "89425                    0.0                  5.0              2.0   \n",
       "\n",
       "       Weather_Condition  Broad_phase_of_flight  \\\n",
       "72                   VMC                Landing   \n",
       "153                  VMC                Unknown   \n",
       "155                  IMC                Landing   \n",
       "160                  VMC                 Cruise   \n",
       "229                  IMC                Landing   \n",
       "...                  ...                    ...   \n",
       "88863                VMC                unknown   \n",
       "89142            unknown                unknown   \n",
       "89184                VMC                unknown   \n",
       "89216                VMC                unknown   \n",
       "89425            unknown                unknown   \n",
       "\n",
       "                                           Report_Status  \n",
       "72                                        Probable Cause  \n",
       "153                                       Probable Cause  \n",
       "155                                       Probable Cause  \n",
       "160                                       Probable Cause  \n",
       "229                                       Probable Cause  \n",
       "...                                                  ...  \n",
       "88863  The pilot's failure to maintain clearance from...  \n",
       "89142                                     Probable Cause  \n",
       "89184  The pilots inability to maintain control in h...  \n",
       "89216                                     Probable Cause  \n",
       "89425                                     Probable Cause  \n",
       "\n",
       "[822 rows x 23 columns]"
      ]
     },
     "execution_count": 149,
     "metadata": {},
     "output_type": "execute_result"
    }
   ],
   "source": [
    "#find outliers\n",
    "df.loc[(df['Total_Minor_Injuries'] > upper_limit) | (df['Total_Minor_Injuries'] < lower_limit)]"
   ]
  },
  {
   "cell_type": "code",
   "execution_count": 150,
   "metadata": {},
   "outputs": [],
   "source": [
    "#capping-changing the outlier values to lower or upper limit\n",
    "outlier_remove_df = df.copy()\n",
    "outlier_remove_df.loc[(outlier_remove_df['Total_Minor_Injuries']> upper_limit), 'Total_Minor_Injuries']=upper_limit\n",
    "outlier_remove_df.loc[(outlier_remove_df['Total_Minor_Injuries']< lower_limit), 'Total_Minor_Injuries']=lower_limit"
   ]
  },
  {
   "cell_type": "code",
   "execution_count": 151,
   "metadata": {},
   "outputs": [
    {
     "data": {
      "text/plain": [
       "<Axes: >"
      ]
     },
     "execution_count": 151,
     "metadata": {},
     "output_type": "execute_result"
    },
    {
     "data": {
      "image/png": "[encoded data removed]",
      "text/plain": [
       "<Figure size 640x480 with 1 Axes>"
      ]
     },
     "metadata": {},
     "output_type": "display_data"
    }
   ],
   "source": [
    "#graph before removing outliers\n",
    "sns.boxplot(df['Total_Minor_Injuries'])"
   ]
  },
  {
   "cell_type": "code",
   "execution_count": 152,
   "metadata": {},
   "outputs": [
    {
     "data": {
      "text/plain": [
       "<Axes: >"
      ]
     },
     "execution_count": 152,
     "metadata": {},
     "output_type": "execute_result"
    },
    {
     "data": {
      "image/png": "[encoded data removed]",
      "text/plain": [
       "<Figure size 640x480 with 1 Axes>"
      ]
     },
     "metadata": {},
     "output_type": "display_data"
    }
   ],
   "source": [
    "#graph after removing outliers\n",
    "sns.boxplot(outlier_remove_df['Total_Minor_Injuries'])"
   ]
  },
  {
   "cell_type": "code",
   "execution_count": 153,
   "metadata": {},
   "outputs": [
    {
     "name": "stdout",
     "output_type": "stream",
     "text": [
      "upper limit: 5.0\n",
      "lower limit: 0.0\n"
     ]
    }
   ],
   "source": [
    "#Handling outliers in fatal.injury\n",
    "upper_limit = df['Total_Fatal_Injuries'].quantile(0.99)\n",
    "lower_limit = df['Total_Fatal_Injuries'].quantile(0.01)\n",
    "print('upper limit:', upper_limit)\n",
    "print('lower limit:', lower_limit)"
   ]
  },
  {
   "cell_type": "code",
   "execution_count": 154,
   "metadata": {},
   "outputs": [
    {
     "data": {
      "text/html": [
       "<div>\n",
       "<style scoped>\n",
       "    .dataframe tbody tr th:only-of-type {\n",
       "        vertical-align: middle;\n",
       "    }\n",
       "\n",
       "    .dataframe tbody tr th {\n",
       "        vertical-align: top;\n",
       "    }\n",
       "\n",
       "    .dataframe thead th {\n",
       "        text-align: right;\n",
       "    }\n",
       "</style>\n",
       "<table border=\"1\" class=\"dataframe\">\n",
       "  <thead>\n",
       "    <tr style=\"text-align: right;\">\n",
       "      <th></th>\n",
       "      <th>Event_Id</th>\n",
       "      <th>Investigation_Type</th>\n",
       "      <th>Accident_Number</th>\n",
       "      <th>Event_Date</th>\n",
       "      <th>Location</th>\n",
       "      <th>Country</th>\n",
       "      <th>Injury_Severity</th>\n",
       "      <th>Aircraft_damage</th>\n",
       "      <th>Aircraft_Category</th>\n",
       "      <th>Registration_Number</th>\n",
       "      <th>...</th>\n",
       "      <th>Number_of_Engines</th>\n",
       "      <th>Engine_Type</th>\n",
       "      <th>Purpose_of_flight</th>\n",
       "      <th>Total_Fatal_Injuries</th>\n",
       "      <th>Total_Serious_Injuries</th>\n",
       "      <th>Total_Minor_Injuries</th>\n",
       "      <th>Total_Uninjured</th>\n",
       "      <th>Weather_Condition</th>\n",
       "      <th>Broad_phase_of_flight</th>\n",
       "      <th>Report_Status</th>\n",
       "    </tr>\n",
       "  </thead>\n",
       "  <tbody>\n",
       "    <tr>\n",
       "      <th>25</th>\n",
       "      <td>20020917X01905</td>\n",
       "      <td>Accident</td>\n",
       "      <td>DCA82AA008</td>\n",
       "      <td>1982-01-03</td>\n",
       "      <td>ASHLAND, VA</td>\n",
       "      <td>United States</td>\n",
       "      <td>Fatal</td>\n",
       "      <td>Destroyed</td>\n",
       "      <td>Airplane</td>\n",
       "      <td>N2620L</td>\n",
       "      <td>...</td>\n",
       "      <td>2.0</td>\n",
       "      <td>Reciprocating</td>\n",
       "      <td>Business</td>\n",
       "      <td>8.0</td>\n",
       "      <td>0.0</td>\n",
       "      <td>0.0</td>\n",
       "      <td>0.0</td>\n",
       "      <td>IMC</td>\n",
       "      <td>Approach</td>\n",
       "      <td>Probable Cause</td>\n",
       "    </tr>\n",
       "    <tr>\n",
       "      <th>84</th>\n",
       "      <td>20020917X01907</td>\n",
       "      <td>Accident</td>\n",
       "      <td>DCA82AA011</td>\n",
       "      <td>1982-01-13</td>\n",
       "      <td>WASHINGTON, DC</td>\n",
       "      <td>United States</td>\n",
       "      <td>Fatal</td>\n",
       "      <td>Destroyed</td>\n",
       "      <td>unknown</td>\n",
       "      <td>N62AF</td>\n",
       "      <td>...</td>\n",
       "      <td>2.0</td>\n",
       "      <td>Turbo Fan</td>\n",
       "      <td>Unknown</td>\n",
       "      <td>78.0</td>\n",
       "      <td>6.0</td>\n",
       "      <td>3.0</td>\n",
       "      <td>0.0</td>\n",
       "      <td>IMC</td>\n",
       "      <td>Takeoff</td>\n",
       "      <td>Probable Cause</td>\n",
       "    </tr>\n",
       "    <tr>\n",
       "      <th>165</th>\n",
       "      <td>20020917X01990</td>\n",
       "      <td>Accident</td>\n",
       "      <td>FTW82AA046</td>\n",
       "      <td>1982-01-24</td>\n",
       "      <td>LAREDO, TX</td>\n",
       "      <td>United States</td>\n",
       "      <td>Fatal</td>\n",
       "      <td>Destroyed</td>\n",
       "      <td>Airplane</td>\n",
       "      <td>N4244Z</td>\n",
       "      <td>...</td>\n",
       "      <td>2.0</td>\n",
       "      <td>Reciprocating</td>\n",
       "      <td>Personal</td>\n",
       "      <td>7.0</td>\n",
       "      <td>0.0</td>\n",
       "      <td>0.0</td>\n",
       "      <td>0.0</td>\n",
       "      <td>VMC</td>\n",
       "      <td>Approach</td>\n",
       "      <td>Probable Cause</td>\n",
       "    </tr>\n",
       "    <tr>\n",
       "      <th>254</th>\n",
       "      <td>20020917X02402</td>\n",
       "      <td>Accident</td>\n",
       "      <td>MIA82FA044B</td>\n",
       "      <td>1982-02-07</td>\n",
       "      <td>W. OF HOMESTEAD, FL</td>\n",
       "      <td>United States</td>\n",
       "      <td>Fatal</td>\n",
       "      <td>Destroyed</td>\n",
       "      <td>Airplane</td>\n",
       "      <td>N7361P</td>\n",
       "      <td>...</td>\n",
       "      <td>1.0</td>\n",
       "      <td>Reciprocating</td>\n",
       "      <td>Personal</td>\n",
       "      <td>8.0</td>\n",
       "      <td>0.0</td>\n",
       "      <td>0.0</td>\n",
       "      <td>0.0</td>\n",
       "      <td>VMC</td>\n",
       "      <td>Cruise</td>\n",
       "      <td>Probable Cause</td>\n",
       "    </tr>\n",
       "    <tr>\n",
       "      <th>255</th>\n",
       "      <td>20020917X02402</td>\n",
       "      <td>Accident</td>\n",
       "      <td>MIA82FA044A</td>\n",
       "      <td>1982-02-07</td>\n",
       "      <td>W. OF HOMESTEAD, FL</td>\n",
       "      <td>United States</td>\n",
       "      <td>Fatal</td>\n",
       "      <td>Destroyed</td>\n",
       "      <td>Airplane</td>\n",
       "      <td>N2280G</td>\n",
       "      <td>...</td>\n",
       "      <td>1.0</td>\n",
       "      <td>Reciprocating</td>\n",
       "      <td>Personal</td>\n",
       "      <td>8.0</td>\n",
       "      <td>0.0</td>\n",
       "      <td>0.0</td>\n",
       "      <td>0.0</td>\n",
       "      <td>VMC</td>\n",
       "      <td>Cruise</td>\n",
       "      <td>Probable Cause</td>\n",
       "    </tr>\n",
       "    <tr>\n",
       "      <th>...</th>\n",
       "      <td>...</td>\n",
       "      <td>...</td>\n",
       "      <td>...</td>\n",
       "      <td>...</td>\n",
       "      <td>...</td>\n",
       "      <td>...</td>\n",
       "      <td>...</td>\n",
       "      <td>...</td>\n",
       "      <td>...</td>\n",
       "      <td>...</td>\n",
       "      <td>...</td>\n",
       "      <td>...</td>\n",
       "      <td>...</td>\n",
       "      <td>...</td>\n",
       "      <td>...</td>\n",
       "      <td>...</td>\n",
       "      <td>...</td>\n",
       "      <td>...</td>\n",
       "      <td>...</td>\n",
       "      <td>...</td>\n",
       "      <td>...</td>\n",
       "    </tr>\n",
       "    <tr>\n",
       "      <th>89917</th>\n",
       "      <td>20220905105855</td>\n",
       "      <td>Accident</td>\n",
       "      <td>DCA22MA193</td>\n",
       "      <td>2022-09-04</td>\n",
       "      <td>Freeland, WA</td>\n",
       "      <td>United States</td>\n",
       "      <td>Fatal</td>\n",
       "      <td>Substantial</td>\n",
       "      <td>Airplane</td>\n",
       "      <td>N725TH</td>\n",
       "      <td>...</td>\n",
       "      <td>1.0</td>\n",
       "      <td>unknown</td>\n",
       "      <td>unknown</td>\n",
       "      <td>10.0</td>\n",
       "      <td>0.0</td>\n",
       "      <td>0.0</td>\n",
       "      <td>0.0</td>\n",
       "      <td>VMC</td>\n",
       "      <td>unknown</td>\n",
       "      <td>Probable Cause</td>\n",
       "    </tr>\n",
       "    <tr>\n",
       "      <th>90148</th>\n",
       "      <td>20221019106164</td>\n",
       "      <td>Accident</td>\n",
       "      <td>GAA23WA009</td>\n",
       "      <td>2022-10-18</td>\n",
       "      <td>Rudraprayag,</td>\n",
       "      <td>India</td>\n",
       "      <td>Fatal</td>\n",
       "      <td>Destroyed</td>\n",
       "      <td>Helicopter</td>\n",
       "      <td>VT-RPN</td>\n",
       "      <td>...</td>\n",
       "      <td>1.0</td>\n",
       "      <td>unknown</td>\n",
       "      <td>unknown</td>\n",
       "      <td>7.0</td>\n",
       "      <td>0.0</td>\n",
       "      <td>0.0</td>\n",
       "      <td>0.0</td>\n",
       "      <td>unknown</td>\n",
       "      <td>unknown</td>\n",
       "      <td>Probable Cause</td>\n",
       "    </tr>\n",
       "    <tr>\n",
       "      <th>90235</th>\n",
       "      <td>20221112106276</td>\n",
       "      <td>Accident</td>\n",
       "      <td>CEN23MA034</td>\n",
       "      <td>2022-11-12</td>\n",
       "      <td>Dallas, TX</td>\n",
       "      <td>United States</td>\n",
       "      <td>Fatal</td>\n",
       "      <td>Destroyed</td>\n",
       "      <td>Airplane</td>\n",
       "      <td>N6763</td>\n",
       "      <td>...</td>\n",
       "      <td>1.0</td>\n",
       "      <td>unknown</td>\n",
       "      <td>ASHO</td>\n",
       "      <td>6.0</td>\n",
       "      <td>0.0</td>\n",
       "      <td>0.0</td>\n",
       "      <td>0.0</td>\n",
       "      <td>VMC</td>\n",
       "      <td>unknown</td>\n",
       "      <td>Probable Cause</td>\n",
       "    </tr>\n",
       "    <tr>\n",
       "      <th>90236</th>\n",
       "      <td>20221112106276</td>\n",
       "      <td>Accident</td>\n",
       "      <td>CEN23MA034</td>\n",
       "      <td>2022-11-12</td>\n",
       "      <td>Dallas, TX</td>\n",
       "      <td>United States</td>\n",
       "      <td>Fatal</td>\n",
       "      <td>Destroyed</td>\n",
       "      <td>Airplane</td>\n",
       "      <td>N7227C</td>\n",
       "      <td>...</td>\n",
       "      <td>4.0</td>\n",
       "      <td>unknown</td>\n",
       "      <td>ASHO</td>\n",
       "      <td>6.0</td>\n",
       "      <td>0.0</td>\n",
       "      <td>0.0</td>\n",
       "      <td>0.0</td>\n",
       "      <td>VMC</td>\n",
       "      <td>unknown</td>\n",
       "      <td>Probable Cause</td>\n",
       "    </tr>\n",
       "    <tr>\n",
       "      <th>90265</th>\n",
       "      <td>20221122106339</td>\n",
       "      <td>Accident</td>\n",
       "      <td>GAA23WA029</td>\n",
       "      <td>2022-11-21</td>\n",
       "      <td>Medellin,</td>\n",
       "      <td>Colombia</td>\n",
       "      <td>Fatal</td>\n",
       "      <td>Destroyed</td>\n",
       "      <td>Airplane</td>\n",
       "      <td>HK 5121</td>\n",
       "      <td>...</td>\n",
       "      <td>1.0</td>\n",
       "      <td>unknown</td>\n",
       "      <td>unknown</td>\n",
       "      <td>8.0</td>\n",
       "      <td>0.0</td>\n",
       "      <td>0.0</td>\n",
       "      <td>0.0</td>\n",
       "      <td>unknown</td>\n",
       "      <td>unknown</td>\n",
       "      <td>Probable Cause</td>\n",
       "    </tr>\n",
       "  </tbody>\n",
       "</table>\n",
       "<p>719 rows × 23 columns</p>\n",
       "</div>"
      ],
      "text/plain": [
       "             Event_Id Investigation_Type Accident_Number  Event_Date  \\\n",
       "25     20020917X01905           Accident      DCA82AA008  1982-01-03   \n",
       "84     20020917X01907           Accident      DCA82AA011  1982-01-13   \n",
       "165    20020917X01990           Accident      FTW82AA046  1982-01-24   \n",
       "254    20020917X02402           Accident     MIA82FA044B  1982-02-07   \n",
       "255    20020917X02402           Accident     MIA82FA044A  1982-02-07   \n",
       "...               ...                ...             ...         ...   \n",
       "89917  20220905105855           Accident      DCA22MA193  2022-09-04   \n",
       "90148  20221019106164           Accident      GAA23WA009  2022-10-18   \n",
       "90235  20221112106276           Accident      CEN23MA034  2022-11-12   \n",
       "90236  20221112106276           Accident      CEN23MA034  2022-11-12   \n",
       "90265  20221122106339           Accident      GAA23WA029  2022-11-21   \n",
       "\n",
       "                  Location        Country Injury_Severity Aircraft_damage  \\\n",
       "25             ASHLAND, VA  United States           Fatal       Destroyed   \n",
       "84          WASHINGTON, DC  United States           Fatal       Destroyed   \n",
       "165             LAREDO, TX  United States           Fatal       Destroyed   \n",
       "254    W. OF HOMESTEAD, FL  United States           Fatal       Destroyed   \n",
       "255    W. OF HOMESTEAD, FL  United States           Fatal       Destroyed   \n",
       "...                    ...            ...             ...             ...   \n",
       "89917         Freeland, WA  United States           Fatal     Substantial   \n",
       "90148        Rudraprayag,           India           Fatal       Destroyed   \n",
       "90235           Dallas, TX  United States           Fatal       Destroyed   \n",
       "90236           Dallas, TX  United States           Fatal       Destroyed   \n",
       "90265           Medellin,        Colombia           Fatal       Destroyed   \n",
       "\n",
       "      Aircraft_Category Registration_Number  ... Number_of_Engines  \\\n",
       "25             Airplane              N2620L  ...               2.0   \n",
       "84              unknown               N62AF  ...               2.0   \n",
       "165            Airplane              N4244Z  ...               2.0   \n",
       "254            Airplane              N7361P  ...               1.0   \n",
       "255            Airplane              N2280G  ...               1.0   \n",
       "...                 ...                 ...  ...               ...   \n",
       "89917          Airplane              N725TH  ...               1.0   \n",
       "90148        Helicopter              VT-RPN  ...               1.0   \n",
       "90235          Airplane               N6763  ...               1.0   \n",
       "90236          Airplane              N7227C  ...               4.0   \n",
       "90265          Airplane             HK 5121  ...               1.0   \n",
       "\n",
       "         Engine_Type Purpose_of_flight  Total_Fatal_Injuries  \\\n",
       "25     Reciprocating          Business                   8.0   \n",
       "84         Turbo Fan           Unknown                  78.0   \n",
       "165    Reciprocating          Personal                   7.0   \n",
       "254    Reciprocating          Personal                   8.0   \n",
       "255    Reciprocating          Personal                   8.0   \n",
       "...              ...               ...                   ...   \n",
       "89917        unknown           unknown                  10.0   \n",
       "90148        unknown           unknown                   7.0   \n",
       "90235        unknown              ASHO                   6.0   \n",
       "90236        unknown              ASHO                   6.0   \n",
       "90265        unknown           unknown                   8.0   \n",
       "\n",
       "      Total_Serious_Injuries Total_Minor_Injuries  Total_Uninjured  \\\n",
       "25                       0.0                  0.0              0.0   \n",
       "84                       6.0                  3.0              0.0   \n",
       "165                      0.0                  0.0              0.0   \n",
       "254                      0.0                  0.0              0.0   \n",
       "255                      0.0                  0.0              0.0   \n",
       "...                      ...                  ...              ...   \n",
       "89917                    0.0                  0.0              0.0   \n",
       "90148                    0.0                  0.0              0.0   \n",
       "90235                    0.0                  0.0              0.0   \n",
       "90236                    0.0                  0.0              0.0   \n",
       "90265                    0.0                  0.0              0.0   \n",
       "\n",
       "       Weather_Condition  Broad_phase_of_flight   Report_Status  \n",
       "25                   IMC               Approach  Probable Cause  \n",
       "84                   IMC                Takeoff  Probable Cause  \n",
       "165                  VMC               Approach  Probable Cause  \n",
       "254                  VMC                 Cruise  Probable Cause  \n",
       "255                  VMC                 Cruise  Probable Cause  \n",
       "...                  ...                    ...             ...  \n",
       "89917                VMC                unknown  Probable Cause  \n",
       "90148            unknown                unknown  Probable Cause  \n",
       "90235                VMC                unknown  Probable Cause  \n",
       "90236                VMC                unknown  Probable Cause  \n",
       "90265            unknown                unknown  Probable Cause  \n",
       "\n",
       "[719 rows x 23 columns]"
      ]
     },
     "execution_count": 154,
     "metadata": {},
     "output_type": "execute_result"
    }
   ],
   "source": [
    "#find outliers\n",
    "df.loc[(df['Total_Fatal_Injuries'] > upper_limit) | (df['Total_Fatal_Injuries'] < lower_limit)]"
   ]
  },
  {
   "cell_type": "code",
   "execution_count": 155,
   "metadata": {},
   "outputs": [],
   "source": [
    "#capping-changing the outlier values to lower or upper limit\n",
    "outlier_remove_df = df.copy()\n",
    "outlier_remove_df.loc[(outlier_remove_df['Total_Fatal_Injuries']> upper_limit), 'Total_Fatal_Injuries']=upper_limit\n",
    "outlier_remove_df.loc[(outlier_remove_df['Total_Fatal_Injuries']< lower_limit), 'Total_Fatal_Injuries']=lower_limit"
   ]
  },
  {
   "cell_type": "code",
   "execution_count": 156,
   "metadata": {},
   "outputs": [
    {
     "data": {
      "text/plain": [
       "<Axes: >"
      ]
     },
     "execution_count": 156,
     "metadata": {},
     "output_type": "execute_result"
    },
    {
     "data": {
      "image/png": "[encoded data removed]",
      "text/plain": [
       "<Figure size 640x480 with 1 Axes>"
      ]
     },
     "metadata": {},
     "output_type": "display_data"
    }
   ],
   "source": [
    "#graph before removing outliers\n",
    "sns.boxplot(df['Total_Fatal_Injuries'])"
   ]
  },
  {
   "cell_type": "code",
   "execution_count": 157,
   "metadata": {},
   "outputs": [
    {
     "data": {
      "text/plain": [
       "<Axes: >"
      ]
     },
     "execution_count": 157,
     "metadata": {},
     "output_type": "execute_result"
    },
    {
     "data": {
      "image/png": "[encoded data removed]",
      "text/plain": [
       "<Figure size 640x480 with 1 Axes>"
      ]
     },
     "metadata": {},
     "output_type": "display_data"
    }
   ],
   "source": [
    "#graph after removing outliers\n",
    "sns.boxplot(outlier_remove_df['Total_Fatal_Injuries'])"
   ]
  },
  {
   "cell_type": "markdown",
   "metadata": {},
   "source": [
    "### 3.Data type cleaning\n",
    "changing the data type for date from object to date\n",
    "then restricting it"
   ]
  },
  {
   "cell_type": "code",
   "execution_count": 158,
   "metadata": {},
   "outputs": [
    {
     "data": {
      "text/plain": [
       "Index(['Event_Id', 'Investigation_Type', 'Accident_Number', 'Event_Date',\n",
       "       'Location', 'Country', 'Injury_Severity', 'Aircraft_damage',\n",
       "       'Aircraft_Category', 'Registration_Number', 'Make', 'Model',\n",
       "       'Amateur_Built', 'Number_of_Engines', 'Engine_Type',\n",
       "       'Purpose_of_flight', 'Total_Fatal_Injuries', 'Total_Serious_Injuries',\n",
       "       'Total_Minor_Injuries', 'Total_Uninjured', 'Weather_Condition',\n",
       "       'Broad_phase_of_flight', 'Report_Status'],\n",
       "      dtype='object')"
      ]
     },
     "execution_count": 158,
     "metadata": {},
     "output_type": "execute_result"
    }
   ],
   "source": [
    "df.columns"
   ]
  },
  {
   "cell_type": "code",
   "execution_count": 159,
   "metadata": {},
   "outputs": [],
   "source": [
    "#changing the dtype of Event_Date from object to date\n",
    "df['Event_Date'] = pd.to_datetime(df['Event_Date'], dayfirst=True, errors='coerce')"
   ]
  },
  {
   "cell_type": "code",
   "execution_count": 160,
   "metadata": {},
   "outputs": [
    {
     "data": {
      "text/plain": [
       "0"
      ]
     },
     "execution_count": 160,
     "metadata": {},
     "output_type": "execute_result"
    }
   ],
   "source": [
    "#checking for duplicates\n",
    "df.duplicated().sum()"
   ]
  },
  {
   "cell_type": "markdown",
   "metadata": {},
   "source": [
    "### creating separate columns for year and month\n",
    "creating the separate columns for year and month for easy analysis and plotting of trends\n",
    "This can be handy in analysis of weather over the months and also analysis of make from year to year"
   ]
  },
  {
   "cell_type": "code",
   "execution_count": 161,
   "metadata": {},
   "outputs": [],
   "source": [
    "df['year'] = df['Event_Date'].dt.year\n",
    "df['month'] = df['Event_Date'].dt.month"
   ]
  },
  {
   "cell_type": "code",
   "execution_count": 162,
   "metadata": {},
   "outputs": [
    {
     "data": {
      "text/plain": [
       "Index(['Event_Id', 'Investigation_Type', 'Accident_Number', 'Event_Date',\n",
       "       'Location', 'Country', 'Injury_Severity', 'Aircraft_damage',\n",
       "       'Aircraft_Category', 'Registration_Number', 'Make', 'Model',\n",
       "       'Amateur_Built', 'Number_of_Engines', 'Engine_Type',\n",
       "       'Purpose_of_flight', 'Total_Fatal_Injuries', 'Total_Serious_Injuries',\n",
       "       'Total_Minor_Injuries', 'Total_Uninjured', 'Weather_Condition',\n",
       "       'Broad_phase_of_flight', 'Report_Status', 'year', 'month'],\n",
       "      dtype='object')"
      ]
     },
     "execution_count": 162,
     "metadata": {},
     "output_type": "execute_result"
    }
   ],
   "source": [
    "#checking if year and month have been added to the column list\n",
    "df.columns"
   ]
  },
  {
   "cell_type": "markdown",
   "metadata": {},
   "source": [
    "# Visualization\n",
    "Using matplotlib and seaborn to make prediction"
   ]
  },
  {
   "cell_type": "code",
   "execution_count": 163,
   "metadata": {},
   "outputs": [
    {
     "data": {
      "image/png": "[encoded data removed]",
      "text/plain": [
       "<Figure size 640x480 with 1 Axes>"
      ]
     },
     "metadata": {},
     "output_type": "display_data"
    }
   ],
   "source": [
    "#Number of incidents according to the weather conditions\n",
    "sns.countplot(x='Weather_Condition', data=df)\n",
    "plt.title('Number of incidents by weather condition')\n",
    "plt.xticks(rotation=30)\n",
    "plt.show()"
   ]
  },
  {
   "cell_type": "code",
   "execution_count": 164,
   "metadata": {},
   "outputs": [
    {
     "data": {
      "text/plain": [
       "Weather_Condition\n",
       "VMC        77248\n",
       "IMC         5968\n",
       "unknown     3580\n",
       "UNK          856\n",
       "Unk          237\n",
       "Name: count, dtype: int64"
      ]
     },
     "execution_count": 164,
     "metadata": {},
     "output_type": "execute_result"
    }
   ],
   "source": [
    "df['Weather_Condition'].value_counts(dropna=False)"
   ]
  },
  {
   "cell_type": "markdown",
   "metadata": {},
   "source": [
    "#### Aircraft damage based on the Broad phase of flight\n",
    "Analysing how aircrafts are damaged at different phases of flight"
   ]
  },
  {
   "cell_type": "code",
   "execution_count": 165,
   "metadata": {},
   "outputs": [
    {
     "data": {
      "image/png": "[encoded data removed]",
      "text/plain": [
       "<Figure size 640x480 with 1 Axes>"
      ]
     },
     "metadata": {},
     "output_type": "display_data"
    }
   ],
   "source": [
    "sns.countplot(data=df,x='Broad_phase_of_flight',hue='Aircraft_damage')\n",
    "plt.xticks(rotation=90)\n",
    "plt.show()"
   ]
  },
  {
   "cell_type": "markdown",
   "metadata": {},
   "source": [
    "Based on the broad phase plot , Unknown,Landing and takeoff record a higher number of damage"
   ]
  },
  {
   "cell_type": "markdown",
   "metadata": {},
   "source": [
    "#### Fatality by Number of engine \n",
    "How does the number of engine affect fatality rate?"
   ]
  },
  {
   "cell_type": "code",
   "execution_count": 166,
   "metadata": {},
   "outputs": [
    {
     "data": {
      "image/png": "[encoded data removed]",
      "text/plain": [
       "<Figure size 800x400 with 1 Axes>"
      ]
     },
     "metadata": {},
     "output_type": "display_data"
    }
   ],
   "source": [
    "#boxplot showing Fatal injuries by Number of engines\n",
    "plt.figure(figsize=(8,4))\n",
    "sns.boxplot(data=df, x ='Number_of_Engines', y='Total_Fatal_Injuries')\n",
    "plt.title('Fatal injuries by  number of engine')\n",
    "plt.xlabel('Number_of_Engines')\n",
    "plt.ylabel('Total_Fatal_Injuries')\n",
    "plt.show()"
   ]
  },
  {
   "cell_type": "markdown",
   "metadata": {},
   "source": [
    "1 and 2 Number of engines have a higher count"
   ]
  },
  {
   "cell_type": "markdown",
   "metadata": {},
   "source": [
    "#### Number of Incidents by engine type\n",
    "Which engine type has more incident?"
   ]
  },
  {
   "cell_type": "code",
   "execution_count": 167,
   "metadata": {},
   "outputs": [
    {
     "data": {
      "image/png": "[encoded data removed]",
      "text/plain": [
       "<Figure size 1400x800 with 1 Axes>"
      ]
     },
     "metadata": {},
     "output_type": "display_data"
    }
   ],
   "source": [
    "#Number of Incidents by engine type\n",
    "#Engines with higher incidents raise security concerns\n",
    "plt.figure(figsize=(14,8))\n",
    "sns.countplot(data=df, x='Engine_Type')\n",
    "plt.title('Number of Incidents by Engine Type')\n",
    "plt.xlabel('Engine_Type')\n",
    "plt.ylabel('Number of Incidents')\n",
    "plt.show()"
   ]
  },
  {
   "cell_type": "markdown",
   "metadata": {},
   "source": [
    "The reciprocating engine records a higher number of incidents "
   ]
  },
  {
   "cell_type": "markdown",
   "metadata": {},
   "source": [
    "#### Exporting the cleaned csv file for visualizations in Tableu"
   ]
  },
  {
   "cell_type": "code",
   "execution_count": 168,
   "metadata": {},
   "outputs": [],
   "source": [
    "df.to_csv('Analysed_Aviation_Data.csv', index=False)"
   ]
  },
  {
   "cell_type": "code",
   "execution_count": null,
   "metadata": {},
   "outputs": [],
   "source": []
  }
 ],
 "metadata": {
  "kernelspec": {
   "display_name": "Python [conda env:base] *",
   "language": "python",
   "name": "conda-base-py"
  },
  "language_info": {
   "codemirror_mode": {
    "name": "ipython",
    "version": 3
   },
   "file_extension": ".py",
   "mimetype": "text/x-python",
   "name": "python",
   "nbconvert_exporter": "python",
   "pygments_lexer": "ipython3",
   "version": "3.11.7"
  }
 },
 "nbformat": 4,
 "nbformat_minor": 4
}
